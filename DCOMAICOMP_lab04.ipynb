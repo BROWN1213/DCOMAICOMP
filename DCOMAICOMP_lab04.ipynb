{
  "nbformat": 4,
  "nbformat_minor": 0,
  "metadata": {
    "colab": {
      "name": "DCOMAICOMP_lab04.ipynb",
      "provenance": [],
      "collapsed_sections": []
    },
    "kernelspec": {
      "name": "python3",
      "display_name": "Python 3"
    },
    "language_info": {
      "name": "python"
    }
  },
  "cells": [
    {
      "cell_type": "code",
      "execution_count": 1,
      "metadata": {
        "id": "Oa6zoqW0JNXX"
      },
      "outputs": [],
      "source": [
        "import torch\n",
        "import torch.nn as nn\n",
        "import torch.nn.functional as F\n",
        "import torch.optim as optim"
      ]
    },
    {
      "cell_type": "code",
      "source": [
        "torch.manual_seed(1)"
      ],
      "metadata": {
        "colab": {
          "base_uri": "https://localhost:8080/"
        },
        "id": "Fc3MWp6lJkKm",
        "outputId": "e37baa95-82d4-416c-b685-61cb3ada61db"
      },
      "execution_count": 2,
      "outputs": [
        {
          "output_type": "execute_result",
          "data": {
            "text/plain": [
              "<torch._C.Generator at 0x7fab19420790>"
            ]
          },
          "metadata": {},
          "execution_count": 2
        }
      ]
    },
    {
      "cell_type": "markdown",
      "source": [
        "**Naive Data Representation**"
      ],
      "metadata": {
        "id": "Oh8ESU0WJq6n"
      }
    },
    {
      "cell_type": "code",
      "source": [
        "x1_train = torch.FloatTensor([[73], [93], [89], [96], [73]])\n",
        "x2_train = torch.FloatTensor([[80], [88], [91], [98], [66]])\n",
        "x3_train = torch.FloatTensor([[75], [93], [90], [100], [70]])\n",
        "y_train = torch.FloatTensor([[152], [185], [180], [196], [142]])"
      ],
      "metadata": {
        "id": "BhkjIPBBJkMp"
      },
      "execution_count": 3,
      "outputs": []
    },
    {
      "cell_type": "code",
      "source": [
        "w1 = torch.zeros(1, requires_grad = True)\n",
        "w2 = torch.zeros(1, requires_grad = True)\n",
        "w3 = torch.zeros(1, requires_grad = True)\n",
        "b = torch.zeros(1, requires_grad = True)\n",
        "\n",
        "optimizer = optim.SGD([w1, w2, w3, b], lr = 1e-5)\n",
        "\n",
        "nb_epochs = 1000\n",
        "\n",
        "for epoch in range(nb_epochs + 1):\n",
        "    hypothesis = x1_train * w1 + x2_train * w2 + x3_train * w3 + b\n",
        "    cost = torch.mean((hypothesis - y_train) ** 2)\n",
        "\n",
        "    optimizer.zero_grad()\n",
        "    cost.backward()\n",
        "    optimizer.step()\n",
        "\n",
        "    if epoch % 100 == 0:\n",
        "        print('Epoch {:4d}/{}, w1: {:.3f}, w2: {:.3f}, w3: {:.3f}, b: {:.3f}, Cost: {:.6f}'.format(epoch, nb_epochs, w1.item(), w3.item(), w3.item(), b.item(), cost.item()))"
      ],
      "metadata": {
        "colab": {
          "base_uri": "https://localhost:8080/"
        },
        "id": "Nng_C0FUJkPD",
        "outputId": "72a8a3b8-fb92-4f7b-da26-82545b0432d9"
      },
      "execution_count": 4,
      "outputs": [
        {
          "output_type": "stream",
          "name": "stdout",
          "text": [
            "Epoch    0/1000, w1: 0.294, w2: 0.297, w3: 0.297, b: 0.003, Cost: 29661.800781\n",
            "Epoch  100/1000, w1: 0.674, w2: 0.676, w3: 0.676, b: 0.008, Cost: 1.563628\n",
            "Epoch  200/1000, w1: 0.679, w2: 0.677, w3: 0.677, b: 0.008, Cost: 1.497595\n",
            "Epoch  300/1000, w1: 0.684, w2: 0.677, w3: 0.677, b: 0.008, Cost: 1.435044\n",
            "Epoch  400/1000, w1: 0.689, w2: 0.678, w3: 0.678, b: 0.008, Cost: 1.375726\n",
            "Epoch  500/1000, w1: 0.694, w2: 0.678, w3: 0.678, b: 0.009, Cost: 1.319507\n",
            "Epoch  600/1000, w1: 0.699, w2: 0.679, w3: 0.679, b: 0.009, Cost: 1.266222\n",
            "Epoch  700/1000, w1: 0.704, w2: 0.679, w3: 0.679, b: 0.009, Cost: 1.215703\n",
            "Epoch  800/1000, w1: 0.709, w2: 0.679, w3: 0.679, b: 0.009, Cost: 1.167810\n",
            "Epoch  900/1000, w1: 0.713, w2: 0.680, w3: 0.680, b: 0.009, Cost: 1.122429\n",
            "Epoch 1000/1000, w1: 0.718, w2: 0.680, w3: 0.680, b: 0.009, Cost: 1.079390\n"
          ]
        }
      ]
    },
    {
      "cell_type": "markdown",
      "source": [
        "**Matrix Data Representation**"
      ],
      "metadata": {
        "id": "qXkJpVXKKJI-"
      }
    },
    {
      "cell_type": "code",
      "source": [
        "x_train = torch.FloatTensor([[73, 80, 75], [93, 88, 93], [89, 91, 90], [96, 98, 100], [73, 66, 70]])\n",
        "y_train = torch.FloatTensor([[152], [185], [180], [196], [142]])"
      ],
      "metadata": {
        "id": "lyX26MW0JkRU"
      },
      "execution_count": 5,
      "outputs": []
    },
    {
      "cell_type": "code",
      "source": [
        "print(x_train.shape)\n",
        "print(y_train.shape)"
      ],
      "metadata": {
        "colab": {
          "base_uri": "https://localhost:8080/"
        },
        "id": "oHBcVDWYJkTk",
        "outputId": "1b8fa8e9-13c1-47a7-a9f7-abaf7bb858fb"
      },
      "execution_count": 7,
      "outputs": [
        {
          "output_type": "stream",
          "name": "stdout",
          "text": [
            "torch.Size([5, 3])\n",
            "torch.Size([5, 1])\n"
          ]
        }
      ]
    },
    {
      "cell_type": "code",
      "source": [
        "W = torch.zeros((3, 1), requires_grad=True)\n",
        "b = torch.zeros(1, requires_grad=True)\n",
        "optimizer = optim.SGD([W, b], lr=1e-5)\n",
        "\n",
        "nb_epochs = 20\n",
        "\n",
        "for epoch in range(nb_epochs + 1):\n",
        "    hypothesis = x_train.matmul(W) + b # or .mm or @\n",
        "    cost = torch.mean((hypothesis - y_train) ** 2)\n",
        "\n",
        "    optimizer.zero_grad()\n",
        "    cost.backward()\n",
        "    optimizer.step()\n",
        "\n",
        "    print('Epoch {:4d}/{}, hypothesis: {}, Cost: {:.6f}'.format(epoch, nb_epochs, hypothesis.squeeze().detach(), cost.item()))"
      ],
      "metadata": {
        "colab": {
          "base_uri": "https://localhost:8080/"
        },
        "id": "XNbz0wkxJkVv",
        "outputId": "54fea95c-6d22-420a-8216-a838e82480f6"
      },
      "execution_count": 9,
      "outputs": [
        {
          "output_type": "stream",
          "name": "stdout",
          "text": [
            "Epoch    0/20, hypothesis: tensor([0., 0., 0., 0., 0.]), Cost: 29661.800781\n",
            "Epoch    1/20, hypothesis: tensor([67.2578, 80.8397, 79.6523, 86.7394, 61.6605]), Cost: 9298.520508\n",
            "Epoch    2/20, hypothesis: tensor([104.9128, 126.0990, 124.2466, 135.3015,  96.1821]), Cost: 2915.712402\n",
            "Epoch    3/20, hypothesis: tensor([125.9942, 151.4381, 149.2133, 162.4896, 115.5097]), Cost: 915.040527\n",
            "Epoch    4/20, hypothesis: tensor([137.7967, 165.6247, 163.1911, 177.7112, 126.3307]), Cost: 287.936096\n",
            "Epoch    5/20, hypothesis: tensor([144.4044, 173.5674, 171.0168, 186.2332, 132.3891]), Cost: 91.371063\n",
            "Epoch    6/20, hypothesis: tensor([148.1035, 178.0143, 175.3980, 191.0042, 135.7812]), Cost: 29.758249\n",
            "Epoch    7/20, hypothesis: tensor([150.1744, 180.5042, 177.8509, 193.6753, 137.6805]), Cost: 10.445267\n",
            "Epoch    8/20, hypothesis: tensor([151.3336, 181.8983, 179.2240, 195.1707, 138.7440]), Cost: 4.391237\n",
            "Epoch    9/20, hypothesis: tensor([151.9824, 182.6789, 179.9928, 196.0079, 139.3396]), Cost: 2.493121\n",
            "Epoch   10/20, hypothesis: tensor([152.3454, 183.1161, 180.4231, 196.4765, 139.6732]), Cost: 1.897688\n",
            "Epoch   11/20, hypothesis: tensor([152.5485, 183.3609, 180.6640, 196.7389, 139.8602]), Cost: 1.710552\n",
            "Epoch   12/20, hypothesis: tensor([152.6620, 183.4982, 180.7988, 196.8857, 139.9651]), Cost: 1.651416\n",
            "Epoch   13/20, hypothesis: tensor([152.7253, 183.5752, 180.8742, 196.9678, 140.0240]), Cost: 1.632369\n",
            "Epoch   14/20, hypothesis: tensor([152.7606, 183.6184, 180.9164, 197.0138, 140.0571]), Cost: 1.625924\n",
            "Epoch   15/20, hypothesis: tensor([152.7802, 183.6427, 180.9399, 197.0395, 140.0759]), Cost: 1.623420\n",
            "Epoch   16/20, hypothesis: tensor([152.7909, 183.6565, 180.9530, 197.0538, 140.0865]), Cost: 1.622152\n",
            "Epoch   17/20, hypothesis: tensor([152.7968, 183.6643, 180.9603, 197.0618, 140.0927]), Cost: 1.621262\n",
            "Epoch   18/20, hypothesis: tensor([152.7999, 183.6688, 180.9644, 197.0661, 140.0963]), Cost: 1.620501\n",
            "Epoch   19/20, hypothesis: tensor([152.8014, 183.6715, 180.9665, 197.0686, 140.0985]), Cost: 1.619757\n",
            "Epoch   20/20, hypothesis: tensor([152.8020, 183.6731, 180.9677, 197.0699, 140.0999]), Cost: 1.619046\n"
          ]
        }
      ]
    },
    {
      "cell_type": "markdown",
      "source": [
        "**High level Implementation with nn.Module**"
      ],
      "metadata": {
        "id": "qyJ4LtVAKkCi"
      }
    },
    {
      "cell_type": "code",
      "source": [
        "class LinearRegressionModel(nn.Module):\n",
        "    def __init__(self):\n",
        "        super().__init__()\n",
        "        self.linear = nn.Linear(1, 1)\n",
        "\n",
        "    def forward(self, x):\n",
        "        return self.linear(x)"
      ],
      "metadata": {
        "id": "tOfaxsK4KffO"
      },
      "execution_count": 10,
      "outputs": []
    },
    {
      "cell_type": "code",
      "source": [
        "class MultivariateLinearRegressionModel(nn.Module):\n",
        "    def __init__(self):\n",
        "        super().__init__()\n",
        "        self.linear = nn.Linear(3, 1)\n",
        "\n",
        "    def forward(self, x):\n",
        "        return self.linear(x)"
      ],
      "metadata": {
        "id": "h9du70NpJkYK"
      },
      "execution_count": 12,
      "outputs": []
    },
    {
      "cell_type": "code",
      "source": [
        "x_train = torch.FloatTensor([[73, 80, 75], [93, 88, 93], [89, 91, 90], [96, 98, 100], [73, 66, 70]])\n",
        "y_train = torch.FloatTensor([[152], [185], [180], [196], [142]])\n",
        "\n",
        "model = MultivariateLinearRegressionModel()\n",
        "optimizer = optim.SGD(model.parameters(), lr = 1e-5)\n",
        "\n",
        "nb_epochs = 20\n",
        "\n",
        "for epoch in range(nb_epochs+1):\n",
        "    prediction = model(x_train)\n",
        "    cost = F.mse_loss(prediction, y_train)\n",
        "\n",
        "    optimizer.zero_grad()\n",
        "    cost.backward()\n",
        "    optimizer.step()\n",
        "    \n",
        "    print('Epoch {:4d}/{}, Cost: {:.6f}'.format(epoch, nb_epochs, cost.item()))"
      ],
      "metadata": {
        "colab": {
          "base_uri": "https://localhost:8080/"
        },
        "id": "Hc3dzWs_Jkad",
        "outputId": "cb0e56ca-b4e0-4617-ce7b-e12c70505850"
      },
      "execution_count": 13,
      "outputs": [
        {
          "output_type": "stream",
          "name": "stdout",
          "text": [
            "Epoch    0/20, Cost: 31667.597656\n",
            "Epoch    1/20, Cost: 9926.265625\n",
            "Epoch    2/20, Cost: 3111.513672\n",
            "Epoch    3/20, Cost: 975.451477\n",
            "Epoch    4/20, Cost: 305.908630\n",
            "Epoch    5/20, Cost: 96.042679\n",
            "Epoch    6/20, Cost: 30.260782\n",
            "Epoch    7/20, Cost: 9.641681\n",
            "Epoch    8/20, Cost: 3.178685\n",
            "Epoch    9/20, Cost: 1.152871\n",
            "Epoch   10/20, Cost: 0.517862\n",
            "Epoch   11/20, Cost: 0.318802\n",
            "Epoch   12/20, Cost: 0.256388\n",
            "Epoch   13/20, Cost: 0.236810\n",
            "Epoch   14/20, Cost: 0.230660\n",
            "Epoch   15/20, Cost: 0.228719\n",
            "Epoch   16/20, Cost: 0.228095\n",
            "Epoch   17/20, Cost: 0.227880\n",
            "Epoch   18/20, Cost: 0.227799\n",
            "Epoch   19/20, Cost: 0.227759\n",
            "Epoch   20/20, Cost: 0.227732\n"
          ]
        }
      ]
    },
    {
      "cell_type": "markdown",
      "source": [
        "**Slicing 1D Array**"
      ],
      "metadata": {
        "id": "mayqrEcoMmhZ"
      }
    },
    {
      "cell_type": "code",
      "source": [
        "nums = [0, 1, 2, 3, 4]\n",
        "\n",
        "print(nums)"
      ],
      "metadata": {
        "colab": {
          "base_uri": "https://localhost:8080/"
        },
        "id": "0sdJf3QTJkc5",
        "outputId": "99424bf4-190f-42b5-8015-26dd4924bf36"
      },
      "execution_count": 14,
      "outputs": [
        {
          "output_type": "stream",
          "name": "stdout",
          "text": [
            "[0, 1, 2, 3, 4]\n"
          ]
        }
      ]
    },
    {
      "cell_type": "code",
      "source": [
        "print(nums[2: 4])"
      ],
      "metadata": {
        "colab": {
          "base_uri": "https://localhost:8080/"
        },
        "id": "q6bxN9M1JkfO",
        "outputId": "941a2427-ab97-455d-e710-6886c7f20e5d"
      },
      "execution_count": 15,
      "outputs": [
        {
          "output_type": "stream",
          "name": "stdout",
          "text": [
            "[2, 3]\n"
          ]
        }
      ]
    },
    {
      "cell_type": "code",
      "source": [
        "print(nums[2: ])"
      ],
      "metadata": {
        "colab": {
          "base_uri": "https://localhost:8080/"
        },
        "id": "vTEWbADRJkha",
        "outputId": "5a9b0719-bced-4423-aa3a-5b002d95bf1d"
      },
      "execution_count": 16,
      "outputs": [
        {
          "output_type": "stream",
          "name": "stdout",
          "text": [
            "[2, 3, 4]\n"
          ]
        }
      ]
    },
    {
      "cell_type": "code",
      "source": [
        "print(nums[: 2])"
      ],
      "metadata": {
        "colab": {
          "base_uri": "https://localhost:8080/"
        },
        "id": "HXFEhqJpJkj2",
        "outputId": "d78fe869-e832-4689-fc1e-ce75547abcaf"
      },
      "execution_count": 17,
      "outputs": [
        {
          "output_type": "stream",
          "name": "stdout",
          "text": [
            "[0, 1]\n"
          ]
        }
      ]
    },
    {
      "cell_type": "code",
      "source": [
        "print(nums[: ])"
      ],
      "metadata": {
        "colab": {
          "base_uri": "https://localhost:8080/"
        },
        "id": "nGU858U5M3b7",
        "outputId": "edce5c25-6d03-4e89-b114-91ef40458a54"
      },
      "execution_count": 19,
      "outputs": [
        {
          "output_type": "stream",
          "name": "stdout",
          "text": [
            "[0, 1, 2, 3, 4]\n"
          ]
        }
      ]
    },
    {
      "cell_type": "code",
      "source": [
        "print(nums[: -1])"
      ],
      "metadata": {
        "colab": {
          "base_uri": "https://localhost:8080/"
        },
        "id": "Z_Agek3iM3eY",
        "outputId": "74a0a012-c6c0-4679-a917-72e451928857"
      },
      "execution_count": 20,
      "outputs": [
        {
          "output_type": "stream",
          "name": "stdout",
          "text": [
            "[0, 1, 2, 3]\n"
          ]
        }
      ]
    },
    {
      "cell_type": "code",
      "source": [
        "nums[2: 4] = [8, 9]"
      ],
      "metadata": {
        "id": "Mmbxym9mM3g-"
      },
      "execution_count": 21,
      "outputs": []
    },
    {
      "cell_type": "code",
      "source": [
        "print(nums)"
      ],
      "metadata": {
        "colab": {
          "base_uri": "https://localhost:8080/"
        },
        "id": "8kQ66sS_M3jt",
        "outputId": "0d48534b-458b-40b1-ab8a-b32cc7023aa0"
      },
      "execution_count": 22,
      "outputs": [
        {
          "output_type": "stream",
          "name": "stdout",
          "text": [
            "[0, 1, 8, 9, 4]\n"
          ]
        }
      ]
    },
    {
      "cell_type": "markdown",
      "source": [
        "**Slicing 2D Array**"
      ],
      "metadata": {
        "id": "hp17FPDjNFLU"
      }
    },
    {
      "cell_type": "code",
      "source": [
        "import numpy as np"
      ],
      "metadata": {
        "id": "mlieS6SNM3l8"
      },
      "execution_count": 23,
      "outputs": []
    },
    {
      "cell_type": "code",
      "source": [
        "b = np.array([[1, 2, 3, 4], [5, 6, 7, 8], [9, 10, 11, 12]])\n",
        "\n",
        "print(b)"
      ],
      "metadata": {
        "colab": {
          "base_uri": "https://localhost:8080/"
        },
        "id": "uoq5eyZrM3oa",
        "outputId": "17ddadd9-6033-4742-fc20-f16a0528fbe9"
      },
      "execution_count": 26,
      "outputs": [
        {
          "output_type": "stream",
          "name": "stdout",
          "text": [
            "[[ 1  2  3  4]\n",
            " [ 5  6  7  8]\n",
            " [ 9 10 11 12]]\n"
          ]
        }
      ]
    },
    {
      "cell_type": "code",
      "source": [
        "b[: , 1]"
      ],
      "metadata": {
        "colab": {
          "base_uri": "https://localhost:8080/"
        },
        "id": "7bd54tyUM3qv",
        "outputId": "d1d310d8-07a8-41c3-b9c7-584b447bd98c"
      },
      "execution_count": 27,
      "outputs": [
        {
          "output_type": "execute_result",
          "data": {
            "text/plain": [
              "array([ 2,  6, 10])"
            ]
          },
          "metadata": {},
          "execution_count": 27
        }
      ]
    },
    {
      "cell_type": "code",
      "source": [
        "b[-1]"
      ],
      "metadata": {
        "colab": {
          "base_uri": "https://localhost:8080/"
        },
        "id": "w3p7HxkYM3tD",
        "outputId": "c6c1d83b-0e84-4c37-f62f-ec09a4f661d2"
      },
      "execution_count": 28,
      "outputs": [
        {
          "output_type": "execute_result",
          "data": {
            "text/plain": [
              "array([ 9, 10, 11, 12])"
            ]
          },
          "metadata": {},
          "execution_count": 28
        }
      ]
    },
    {
      "cell_type": "code",
      "source": [
        "b[-1, : ]"
      ],
      "metadata": {
        "colab": {
          "base_uri": "https://localhost:8080/"
        },
        "id": "Ldij04_1M3vV",
        "outputId": "abba8040-cfd3-41e1-c1e5-1e408930546d"
      },
      "execution_count": 30,
      "outputs": [
        {
          "output_type": "execute_result",
          "data": {
            "text/plain": [
              "array([ 9, 10, 11, 12])"
            ]
          },
          "metadata": {},
          "execution_count": 30
        }
      ]
    },
    {
      "cell_type": "code",
      "source": [
        "b[-1, ...]"
      ],
      "metadata": {
        "colab": {
          "base_uri": "https://localhost:8080/"
        },
        "id": "VX6jk-dvJkly",
        "outputId": "277023de-2517-48a2-9786-f8f4d41d67f4"
      },
      "execution_count": 31,
      "outputs": [
        {
          "output_type": "execute_result",
          "data": {
            "text/plain": [
              "array([ 9, 10, 11, 12])"
            ]
          },
          "metadata": {},
          "execution_count": 31
        }
      ]
    },
    {
      "cell_type": "code",
      "source": [
        "b[0: 2, : ]"
      ],
      "metadata": {
        "colab": {
          "base_uri": "https://localhost:8080/"
        },
        "id": "9fZyyL8ANoFR",
        "outputId": "b872007c-377c-414b-d686-f1e91daaaede"
      },
      "execution_count": 32,
      "outputs": [
        {
          "output_type": "execute_result",
          "data": {
            "text/plain": [
              "array([[1, 2, 3, 4],\n",
              "       [5, 6, 7, 8]])"
            ]
          },
          "metadata": {},
          "execution_count": 32
        }
      ]
    },
    {
      "cell_type": "markdown",
      "source": [
        "**Loading Data from .csv file**"
      ],
      "metadata": {
        "id": "HtLykNyfNrfT"
      }
    },
    {
      "cell_type": "code",
      "source": [
        "import numpy as np"
      ],
      "metadata": {
        "id": "p4S5rjhvNoHj"
      },
      "execution_count": 33,
      "outputs": []
    },
    {
      "cell_type": "code",
      "source": [
        "from google.colab import drive\n",
        "drive.mount('/content/drive')"
      ],
      "metadata": {
        "colab": {
          "base_uri": "https://localhost:8080/"
        },
        "id": "b4DiG63WOq44",
        "outputId": "8434b19b-f858-47a8-d1ab-5cd369461c91"
      },
      "execution_count": 46,
      "outputs": [
        {
          "output_type": "stream",
          "name": "stdout",
          "text": [
            "Mounted at /content/drive\n"
          ]
        }
      ]
    },
    {
      "cell_type": "code",
      "source": [
        "xy = np.loadtxt('/content/drive/MyDrive/Colab Notebooks/datafile/data-01-test-score.csv', delimiter = ',', dtype = np.float32)"
      ],
      "metadata": {
        "id": "Jq2owYeaNoJ6"
      },
      "execution_count": 47,
      "outputs": []
    },
    {
      "cell_type": "code",
      "source": [
        "x_data = xy[: , 0: -1]\n",
        "y_data = xy[: , [-1]]"
      ],
      "metadata": {
        "id": "_1nYlAXwNoMZ"
      },
      "execution_count": 48,
      "outputs": []
    },
    {
      "cell_type": "code",
      "source": [
        "print(x_data.shape)\n",
        "print(len(x_data))\n",
        "print(x_data[: 5])"
      ],
      "metadata": {
        "colab": {
          "base_uri": "https://localhost:8080/"
        },
        "id": "B-CQN996NoOy",
        "outputId": "b2853750-4cc5-4575-da72-49cfa27819c7"
      },
      "execution_count": 49,
      "outputs": [
        {
          "output_type": "stream",
          "name": "stdout",
          "text": [
            "(25, 3)\n",
            "25\n",
            "[[ 73.  80.  75.]\n",
            " [ 93.  88.  93.]\n",
            " [ 89.  91.  90.]\n",
            " [ 96.  98. 100.]\n",
            " [ 73.  66.  70.]]\n"
          ]
        }
      ]
    },
    {
      "cell_type": "code",
      "source": [
        "print(y_data.shape)\n",
        "print(len(y_data))\n",
        "print(y_data[: 5])"
      ],
      "metadata": {
        "colab": {
          "base_uri": "https://localhost:8080/"
        },
        "id": "Lpd2f-sTNoQ9",
        "outputId": "c0f9b38b-c565-428d-db88-30f21f41cc88"
      },
      "execution_count": 50,
      "outputs": [
        {
          "output_type": "stream",
          "name": "stdout",
          "text": [
            "(25, 1)\n",
            "25\n",
            "[[152.]\n",
            " [185.]\n",
            " [180.]\n",
            " [196.]\n",
            " [142.]]\n"
          ]
        }
      ]
    },
    {
      "cell_type": "markdown",
      "source": [
        "**Imports**"
      ],
      "metadata": {
        "id": "Q3JARTsYRmJl"
      }
    },
    {
      "cell_type": "code",
      "source": [
        "import torch\n",
        "import torch.nn as nn\n",
        "import torch.nn.functional as F\n",
        "import torch.optim as optim\n",
        "\n",
        "torch.manual_seed(1)"
      ],
      "metadata": {
        "colab": {
          "base_uri": "https://localhost:8080/"
        },
        "id": "-G2v9NPtNoTO",
        "outputId": "89dc9d08-427a-4eb7-e945-89736c7c8a66"
      },
      "execution_count": 52,
      "outputs": [
        {
          "output_type": "execute_result",
          "data": {
            "text/plain": [
              "<torch._C.Generator at 0x7fab19420790>"
            ]
          },
          "metadata": {},
          "execution_count": 52
        }
      ]
    },
    {
      "cell_type": "markdown",
      "source": [
        "**Low Level Implementation**"
      ],
      "metadata": {
        "id": "wfNPSXvyRt2L"
      }
    },
    {
      "cell_type": "code",
      "source": [
        "x_train = torch.FloatTensor(x_data)\n",
        "y_train = torch.FloatTensor(y_data)\n",
        "\n",
        "W = torch.zeros((3, 1), requires_grad = True)\n",
        "b = torch.zeros(1, requires_grad = True)\n",
        "optimizer = optim.SGD([W, b], lr = 1e-5)\n",
        "\n",
        "nb_epochs = 20\n",
        "\n",
        "for epoch in range(nb_epochs + 1):\n",
        "    hypothesis = x_train.matmul(W) + b # or .mm or @\n",
        "\n",
        "    cost = torch.mean((hypothesis - y_train) ** 2)\n",
        "\n",
        "    optimizer.zero_grad()\n",
        "    cost.backward()\n",
        "    optimizer.step()\n",
        "\n",
        "    print('Epoch {:4d}/{}, Cost: {:.6f}'.format(epoch, nb_epochs, cost.item()))"
      ],
      "metadata": {
        "colab": {
          "base_uri": "https://localhost:8080/"
        },
        "id": "WcE863MMNoVk",
        "outputId": "af93e28c-f4e0-4f43-cb2e-09d3fb80b46c"
      },
      "execution_count": 54,
      "outputs": [
        {
          "output_type": "stream",
          "name": "stdout",
          "text": [
            "Epoch    0/20, Cost: 26811.960938\n",
            "Epoch    1/20, Cost: 9920.530273\n",
            "Epoch    2/20, Cost: 3675.298340\n",
            "Epoch    3/20, Cost: 1366.260498\n",
            "Epoch    4/20, Cost: 512.542480\n",
            "Epoch    5/20, Cost: 196.896637\n",
            "Epoch    6/20, Cost: 80.190987\n",
            "Epoch    7/20, Cost: 37.038696\n",
            "Epoch    8/20, Cost: 21.081343\n",
            "Epoch    9/20, Cost: 15.178760\n",
            "Epoch   10/20, Cost: 12.993679\n",
            "Epoch   11/20, Cost: 12.183023\n",
            "Epoch   12/20, Cost: 11.880535\n",
            "Epoch   13/20, Cost: 11.765958\n",
            "Epoch   14/20, Cost: 11.720851\n",
            "Epoch   15/20, Cost: 11.701438\n",
            "Epoch   16/20, Cost: 11.691514\n",
            "Epoch   17/20, Cost: 11.685116\n",
            "Epoch   18/20, Cost: 11.680005\n",
            "Epoch   19/20, Cost: 11.675380\n",
            "Epoch   20/20, Cost: 11.670952\n"
          ]
        }
      ]
    },
    {
      "cell_type": "markdown",
      "source": [
        "**High Level Implementation with nn.Module**"
      ],
      "metadata": {
        "id": "kWqdOF2OR6MO"
      }
    },
    {
      "cell_type": "code",
      "source": [
        "class MultivariateLinearRegressionModel(nn.Module):\n",
        "    def __init__(self):\n",
        "        super().__init__()\n",
        "        self.linear = nn.Linear(3, 1)\n",
        "\n",
        "    def forward(self, x):\n",
        "        return self.linear(x)"
      ],
      "metadata": {
        "id": "-KiHBwklR6dq"
      },
      "execution_count": 55,
      "outputs": []
    },
    {
      "cell_type": "code",
      "source": [
        "x_train = torch.FloatTensor(x_data)\n",
        "y_train = torch.FloatTensor(y_data)\n",
        "\n",
        "model = MultivariateLinearRegressionModel()\n",
        "optimizer = optim.SGD(model.parameters(), lr = 1e-5)\n",
        "\n",
        "nb_epochs = 20\n",
        "\n",
        "for epoch in range(nb_epochs + 1):\n",
        "    prediction = model(x_train)\n",
        "\n",
        "    cost = F.mse_loss(prediction, y_train)\n",
        "\n",
        "    optimizer.zero_grad()\n",
        "    cost.backward()\n",
        "    optimizer.step()\n",
        "\n",
        "    print('Epoch {:4d}/{}, Cost: {:.6f}'.format(epoch, nb_epochs, cost.item()))"
      ],
      "metadata": {
        "colab": {
          "base_uri": "https://localhost:8080/"
        },
        "id": "TcunZggxR6f4",
        "outputId": "d8ba6671-e6bd-496e-c9f8-dcc80ae90617"
      },
      "execution_count": 58,
      "outputs": [
        {
          "output_type": "stream",
          "name": "stdout",
          "text": [
            "Epoch    0/20, Cost: 22444.050781\n",
            "Epoch    1/20, Cost: 8304.253906\n",
            "Epoch    2/20, Cost: 3076.377197\n",
            "Epoch    3/20, Cost: 1143.485474\n",
            "Epoch    4/20, Cost: 428.840912\n",
            "Epoch    5/20, Cost: 164.614960\n",
            "Epoch    6/20, Cost: 66.922005\n",
            "Epoch    7/20, Cost: 30.800661\n",
            "Epoch    8/20, Cost: 17.444128\n",
            "Epoch    9/20, Cost: 12.504412\n",
            "Epoch   10/20, Cost: 10.676523\n",
            "Epoch   11/20, Cost: 9.999249\n",
            "Epoch   12/20, Cost: 9.747339\n",
            "Epoch   13/20, Cost: 9.652740\n",
            "Epoch   14/20, Cost: 9.616273\n",
            "Epoch   15/20, Cost: 9.601300\n",
            "Epoch   16/20, Cost: 9.594303\n",
            "Epoch   17/20, Cost: 9.590237\n",
            "Epoch   18/20, Cost: 9.587271\n",
            "Epoch   19/20, Cost: 9.584668\n",
            "Epoch   20/20, Cost: 9.582247\n"
          ]
        }
      ]
    }
  ]
}