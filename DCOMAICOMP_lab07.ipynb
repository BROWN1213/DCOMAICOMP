{
  "nbformat": 4,
  "nbformat_minor": 0,
  "metadata": {
    "colab": {
      "name": "DCOMAICOMP_lab07.ipynb",
      "provenance": [],
      "collapsed_sections": []
    },
    "kernelspec": {
      "name": "python3",
      "display_name": "Python 3"
    },
    "language_info": {
      "name": "python"
    }
  },
  "cells": [
    {
      "cell_type": "code",
      "execution_count": 1,
      "metadata": {
        "colab": {
          "base_uri": "https://localhost:8080/"
        },
        "id": "jmnshwR1ptvc",
        "outputId": "58dad3d9-cf4c-4f93-ab12-7e805aec3cf6"
      },
      "outputs": [
        {
          "output_type": "execute_result",
          "data": {
            "text/plain": [
              "<torch._C.Generator at 0x7f118c3ae770>"
            ]
          },
          "metadata": {},
          "execution_count": 1
        }
      ],
      "source": [
        "import torch\n",
        "import torch.nn as nn\n",
        "import torch.nn.functional as F\n",
        "import torch.optim as optim\n",
        "torch.manual_seed(1)"
      ]
    },
    {
      "cell_type": "code",
      "source": [
        "x_train = torch.FloatTensor([[1, 2, 1], [1, 3, 2], [1, 3, 4], [1, 5, 5], [1, 7, 5], [1, 2, 5], [1, 6, 6], [1, 7, 7]])\n",
        "y_train = torch.LongTensor([2, 2, 2, 1, 1, 1, 0, 0])"
      ],
      "metadata": {
        "id": "-7R7piyiqVIl"
      },
      "execution_count": 2,
      "outputs": []
    },
    {
      "cell_type": "code",
      "source": [
        "x_test = torch.FloatTensor([[2, 1, 1], [3, 1, 2], [3, 3, 4]])\n",
        "y_test = torch.LongTensor([2, 2, 2])"
      ],
      "metadata": {
        "id": "UoTS9f_ZqVKu"
      },
      "execution_count": 3,
      "outputs": []
    },
    {
      "cell_type": "markdown",
      "source": [
        "**Model**"
      ],
      "metadata": {
        "id": "zbLFLNBVqftj"
      }
    },
    {
      "cell_type": "code",
      "source": [
        "class SoftmaxClassifierModel(nn.Module):\n",
        "    def __init__(self):\n",
        "        super().__init__()\n",
        "        self.linear = nn.Linear(3, 3)\n",
        "    def forward(self, x):\n",
        "        return self.linear(x)"
      ],
      "metadata": {
        "id": "akTFyKFUqVNh"
      },
      "execution_count": 5,
      "outputs": []
    },
    {
      "cell_type": "code",
      "source": [
        "model = SoftmaxClassifierModel()"
      ],
      "metadata": {
        "id": "6RE-8d8GqVPz"
      },
      "execution_count": 6,
      "outputs": []
    },
    {
      "cell_type": "code",
      "source": [
        "optimizer = optim.SGD(model.parameters(), lr = 0.1)"
      ],
      "metadata": {
        "id": "RXJ8vWlOqVSM"
      },
      "execution_count": 7,
      "outputs": []
    },
    {
      "cell_type": "code",
      "source": [
        "def train(model, optimizer, x_train, y_train):\n",
        "    nb_epochs = 20\n",
        "    \n",
        "    for epoch in range(nb_epochs):\n",
        "        prediction = model(x_train)\n",
        "        cost = F.cross_entropy(prediction, y_train)\n",
        "\n",
        "        optimizer.zero_grad()\n",
        "        cost.backward()\n",
        "        optimizer.step()\n",
        "\n",
        "        print('Epoch {:4d}/{}, Cost: {:.6f}'.format(epoch, nb_epochs, cost.item()))"
      ],
      "metadata": {
        "id": "CYhLlmLtqVUm"
      },
      "execution_count": 9,
      "outputs": []
    },
    {
      "cell_type": "code",
      "source": [
        "def test(model, optimizer, x_test, y_test):\n",
        "    prediction = model(x_test)\n",
        "    predicted_classes = prediction.max(1)[1]\n",
        "    correct_count = (predicted_classes == y_test).sum().item()\n",
        "    cost = F.cross_entropy(prediction, y_test)\n",
        "\n",
        "    print('Accuracy: {}%, Cost: {:.6f}'.format(correct_count / len(y_test) * 100, cost.item()))"
      ],
      "metadata": {
        "id": "lTHDSGOkqVY7"
      },
      "execution_count": 10,
      "outputs": []
    },
    {
      "cell_type": "code",
      "source": [
        "train(model, optimizer, x_train, y_train)"
      ],
      "metadata": {
        "colab": {
          "base_uri": "https://localhost:8080/"
        },
        "id": "16A4nBDkqVbN",
        "outputId": "bd15c760-fa8a-43c7-a155-ba8321f85a0f"
      },
      "execution_count": 11,
      "outputs": [
        {
          "output_type": "stream",
          "name": "stdout",
          "text": [
            "Epoch    0/20, Cost: 2.203667\n",
            "Epoch    1/20, Cost: 1.199645\n",
            "Epoch    2/20, Cost: 1.142985\n",
            "Epoch    3/20, Cost: 1.117769\n",
            "Epoch    4/20, Cost: 1.100901\n",
            "Epoch    5/20, Cost: 1.089523\n",
            "Epoch    6/20, Cost: 1.079872\n",
            "Epoch    7/20, Cost: 1.071320\n",
            "Epoch    8/20, Cost: 1.063325\n",
            "Epoch    9/20, Cost: 1.055720\n",
            "Epoch   10/20, Cost: 1.048378\n",
            "Epoch   11/20, Cost: 1.041245\n",
            "Epoch   12/20, Cost: 1.034285\n",
            "Epoch   13/20, Cost: 1.027478\n",
            "Epoch   14/20, Cost: 1.020813\n",
            "Epoch   15/20, Cost: 1.014279\n",
            "Epoch   16/20, Cost: 1.007872\n",
            "Epoch   17/20, Cost: 1.001586\n",
            "Epoch   18/20, Cost: 0.995419\n",
            "Epoch   19/20, Cost: 0.989365\n"
          ]
        }
      ]
    },
    {
      "cell_type": "code",
      "source": [
        "test(model, optimizer, x_test, y_test)"
      ],
      "metadata": {
        "colab": {
          "base_uri": "https://localhost:8080/"
        },
        "id": "_k0-itXpqVd0",
        "outputId": "0928d1ac-4ed2-4229-eb0f-6afec9dbe464"
      },
      "execution_count": 12,
      "outputs": [
        {
          "output_type": "stream",
          "name": "stdout",
          "text": [
            "Accuracy: 0.0%, Cost: 1.425844\n"
          ]
        }
      ]
    },
    {
      "cell_type": "markdown",
      "source": [
        "**Learning Rate**"
      ],
      "metadata": {
        "id": "HD1Mi6xjvAzu"
      }
    },
    {
      "cell_type": "code",
      "source": [
        "model = SoftmaxClassifierModel()"
      ],
      "metadata": {
        "id": "7ZuqNdJSqVgM"
      },
      "execution_count": 14,
      "outputs": []
    },
    {
      "cell_type": "code",
      "source": [
        "optimizer = optim.SGD(model.parameters(), lr = 1e5)"
      ],
      "metadata": {
        "id": "3a65ra3AqVim"
      },
      "execution_count": 15,
      "outputs": []
    },
    {
      "cell_type": "code",
      "source": [
        "train(model, optimizer, x_train, y_train)"
      ],
      "metadata": {
        "colab": {
          "base_uri": "https://localhost:8080/"
        },
        "id": "K9eqEGenqVlN",
        "outputId": "9777eb28-36f0-42a1-f976-97056eb38cdd"
      },
      "execution_count": 16,
      "outputs": [
        {
          "output_type": "stream",
          "name": "stdout",
          "text": [
            "Epoch    0/20, Cost: 1.280268\n",
            "Epoch    1/20, Cost: 976950.750000\n",
            "Epoch    2/20, Cost: 1279135.250000\n",
            "Epoch    3/20, Cost: 1198378.875000\n",
            "Epoch    4/20, Cost: 1098825.750000\n",
            "Epoch    5/20, Cost: 1968197.750000\n",
            "Epoch    6/20, Cost: 284763.250000\n",
            "Epoch    7/20, Cost: 1532260.250000\n",
            "Epoch    8/20, Cost: 1651503.750000\n",
            "Epoch    9/20, Cost: 521878.593750\n",
            "Epoch   10/20, Cost: 1397263.250000\n",
            "Epoch   11/20, Cost: 750986.375000\n",
            "Epoch   12/20, Cost: 918691.375000\n",
            "Epoch   13/20, Cost: 1487888.250000\n",
            "Epoch   14/20, Cost: 1582260.250000\n",
            "Epoch   15/20, Cost: 685818.125000\n",
            "Epoch   16/20, Cost: 1140048.875000\n",
            "Epoch   17/20, Cost: 940566.375000\n",
            "Epoch   18/20, Cost: 931638.250000\n",
            "Epoch   19/20, Cost: 1971322.750000\n"
          ]
        }
      ]
    },
    {
      "cell_type": "code",
      "source": [
        "model = SoftmaxClassifierModel()"
      ],
      "metadata": {
        "id": "cyqeUXVIqVne"
      },
      "execution_count": 17,
      "outputs": []
    },
    {
      "cell_type": "code",
      "source": [
        "optimizer = optim.SGD(model.parameters(), lr = 1e-10)"
      ],
      "metadata": {
        "id": "1yfcNkbZqVpz"
      },
      "execution_count": 18,
      "outputs": []
    },
    {
      "cell_type": "code",
      "source": [
        "train(model, optimizer, x_train, y_train)"
      ],
      "metadata": {
        "colab": {
          "base_uri": "https://localhost:8080/"
        },
        "id": "C3w_idtiqVsl",
        "outputId": "31b8dc35-b565-4948-c54b-66a60cb5d7a1"
      },
      "execution_count": 19,
      "outputs": [
        {
          "output_type": "stream",
          "name": "stdout",
          "text": [
            "Epoch    0/20, Cost: 3.187324\n",
            "Epoch    1/20, Cost: 3.187324\n",
            "Epoch    2/20, Cost: 3.187324\n",
            "Epoch    3/20, Cost: 3.187324\n",
            "Epoch    4/20, Cost: 3.187324\n",
            "Epoch    5/20, Cost: 3.187324\n",
            "Epoch    6/20, Cost: 3.187324\n",
            "Epoch    7/20, Cost: 3.187324\n",
            "Epoch    8/20, Cost: 3.187324\n",
            "Epoch    9/20, Cost: 3.187324\n",
            "Epoch   10/20, Cost: 3.187324\n",
            "Epoch   11/20, Cost: 3.187324\n",
            "Epoch   12/20, Cost: 3.187324\n",
            "Epoch   13/20, Cost: 3.187324\n",
            "Epoch   14/20, Cost: 3.187324\n",
            "Epoch   15/20, Cost: 3.187324\n",
            "Epoch   16/20, Cost: 3.187324\n",
            "Epoch   17/20, Cost: 3.187324\n",
            "Epoch   18/20, Cost: 3.187324\n",
            "Epoch   19/20, Cost: 3.187324\n"
          ]
        }
      ]
    },
    {
      "cell_type": "code",
      "source": [
        "model = SoftmaxClassifierModel()"
      ],
      "metadata": {
        "id": "3sjNLEw6qVvZ"
      },
      "execution_count": 20,
      "outputs": []
    },
    {
      "cell_type": "code",
      "source": [
        "optimizer = optim.SGD(model.parameters(), lr = 1e-1)"
      ],
      "metadata": {
        "id": "1Y79I-85qVxz"
      },
      "execution_count": 21,
      "outputs": []
    },
    {
      "cell_type": "code",
      "source": [
        "train(model, optimizer, x_train, y_train)"
      ],
      "metadata": {
        "colab": {
          "base_uri": "https://localhost:8080/"
        },
        "id": "rACmy9tUqV0S",
        "outputId": "159e1447-2c1f-4b1e-86d7-482f1c7791db"
      },
      "execution_count": 22,
      "outputs": [
        {
          "output_type": "stream",
          "name": "stdout",
          "text": [
            "Epoch    0/20, Cost: 1.341574\n",
            "Epoch    1/20, Cost: 1.198802\n",
            "Epoch    2/20, Cost: 1.150877\n",
            "Epoch    3/20, Cost: 1.131977\n",
            "Epoch    4/20, Cost: 1.116242\n",
            "Epoch    5/20, Cost: 1.102514\n",
            "Epoch    6/20, Cost: 1.089676\n",
            "Epoch    7/20, Cost: 1.077479\n",
            "Epoch    8/20, Cost: 1.065775\n",
            "Epoch    9/20, Cost: 1.054511\n",
            "Epoch   10/20, Cost: 1.043655\n",
            "Epoch   11/20, Cost: 1.033187\n",
            "Epoch   12/20, Cost: 1.023091\n",
            "Epoch   13/20, Cost: 1.013356\n",
            "Epoch   14/20, Cost: 1.003968\n",
            "Epoch   15/20, Cost: 0.994917\n",
            "Epoch   16/20, Cost: 0.986189\n",
            "Epoch   17/20, Cost: 0.977775\n",
            "Epoch   18/20, Cost: 0.969661\n",
            "Epoch   19/20, Cost: 0.961836\n"
          ]
        }
      ]
    },
    {
      "cell_type": "markdown",
      "source": [
        "**Data Processing**"
      ],
      "metadata": {
        "id": "RARbOm4zvUhz"
      }
    },
    {
      "cell_type": "code",
      "source": [
        "x_train = torch.FloatTensor([[73, 80, 75], [93, 88, 93], [89, 91, 90], [96, 98, 100], [73, 66, 70]])\n",
        "y_train = torch.FloatTensor([[152], [185], [180], [196], [142]])"
      ],
      "metadata": {
        "id": "1DEs3VMGvTrg"
      },
      "execution_count": 23,
      "outputs": []
    },
    {
      "cell_type": "code",
      "source": [
        "mu = x_train.mean(dim = 0)"
      ],
      "metadata": {
        "id": "XPnMs0t4vTt8"
      },
      "execution_count": 24,
      "outputs": []
    },
    {
      "cell_type": "code",
      "source": [
        "sigma = x_train.std(dim = 0)"
      ],
      "metadata": {
        "id": "L9pGXGhYvTwj"
      },
      "execution_count": 25,
      "outputs": []
    },
    {
      "cell_type": "code",
      "source": [
        "norm_x_train = (x_train - mu) / sigma"
      ],
      "metadata": {
        "id": "_SVadISmvTzB"
      },
      "execution_count": 27,
      "outputs": []
    },
    {
      "cell_type": "code",
      "source": [
        "print(norm_x_train)"
      ],
      "metadata": {
        "colab": {
          "base_uri": "https://localhost:8080/"
        },
        "id": "3_HHXjb_vT1h",
        "outputId": "d227e54b-b7fa-48fe-8cea-7a7632100135"
      },
      "execution_count": 28,
      "outputs": [
        {
          "output_type": "stream",
          "name": "stdout",
          "text": [
            "tensor([[-1.0674, -0.3758, -0.8398],\n",
            "        [ 0.7418,  0.2778,  0.5863],\n",
            "        [ 0.3799,  0.5229,  0.3486],\n",
            "        [ 1.0132,  1.0948,  1.1409],\n",
            "        [-1.0674, -1.5197, -1.2360]])\n"
          ]
        }
      ]
    },
    {
      "cell_type": "code",
      "source": [
        "class MultivariateLinearRegressionModel(nn.Module):\n",
        "    def __init__(self):\n",
        "        super().__init__()\n",
        "        self.linear = nn.Linear(3, 1)\n",
        "\n",
        "    def forward(self, x):\n",
        "        return self.linear(x)"
      ],
      "metadata": {
        "id": "RfmEB1FxvT4B"
      },
      "execution_count": 32,
      "outputs": []
    },
    {
      "cell_type": "code",
      "source": [
        "model = MultivariateLinearRegressionModel()"
      ],
      "metadata": {
        "id": "kFpYPYjjvT6W"
      },
      "execution_count": 33,
      "outputs": []
    },
    {
      "cell_type": "code",
      "source": [
        "optimizer = optim.SGD(model.parameters(), lr = 1e-1)"
      ],
      "metadata": {
        "id": "YMkueQn6vT8l"
      },
      "execution_count": 34,
      "outputs": []
    },
    {
      "cell_type": "code",
      "source": [
        "def train(model, optimizer, x_train, y_train):\n",
        "    nb_epochs = 20\n",
        "    \n",
        "    for epoch in range(nb_epochs):\n",
        "        prediction = model(x_train)\n",
        "        cost = F.mse_loss(prediction, y_train)\n",
        "\n",
        "        optimizer.zero_grad()\n",
        "        cost.backward()\n",
        "        optimizer.step()\n",
        "\n",
        "        print(\"Epoch {:4d}/{}, Cost: {:.6f}\".format(epoch, nb_epochs, cost.item()))"
      ],
      "metadata": {
        "id": "KyUbgbokvUBe"
      },
      "execution_count": 35,
      "outputs": []
    },
    {
      "cell_type": "code",
      "source": [
        "train(model, optimizer, norm_x_train, y_train)"
      ],
      "metadata": {
        "colab": {
          "base_uri": "https://localhost:8080/"
        },
        "id": "_0HLpibTvUDp",
        "outputId": "e80eb5fa-746e-4e82-ed98-f19d988606af"
      },
      "execution_count": 36,
      "outputs": [
        {
          "output_type": "stream",
          "name": "stdout",
          "text": [
            "Epoch    0/20, Cost: 29602.087891\n",
            "Epoch    1/20, Cost: 18798.478516\n",
            "Epoch    2/20, Cost: 11988.445312\n",
            "Epoch    3/20, Cost: 7660.372559\n",
            "Epoch    4/20, Cost: 4899.234375\n",
            "Epoch    5/20, Cost: 3134.669922\n",
            "Epoch    6/20, Cost: 2006.090454\n",
            "Epoch    7/20, Cost: 1284.011108\n",
            "Epoch    8/20, Cost: 821.937134\n",
            "Epoch    9/20, Cost: 526.222473\n",
            "Epoch   10/20, Cost: 336.965057\n",
            "Epoch   11/20, Cost: 215.836151\n",
            "Epoch   12/20, Cost: 138.308807\n",
            "Epoch   13/20, Cost: 88.686180\n",
            "Epoch   14/20, Cost: 56.922966\n",
            "Epoch   15/20, Cost: 36.589779\n",
            "Epoch   16/20, Cost: 23.571926\n",
            "Epoch   17/20, Cost: 15.236008\n",
            "Epoch   18/20, Cost: 9.896884\n",
            "Epoch   19/20, Cost: 6.475713\n"
          ]
        }
      ]
    },
    {
      "cell_type": "markdown",
      "source": [
        "**Overfitting**"
      ],
      "metadata": {
        "id": "FVivfYk30LLG"
      }
    },
    {
      "cell_type": "code",
      "source": [
        "def train_with_regularization(model, optimizer, x_train, y_train):\n",
        "    nb_epochs = 20\n",
        "    \n",
        "    for epoch in range(nb_epochs):\n",
        "        prediction = model(x_train)\n",
        "        cost = F.mse_loss(prediction, y_train)\n",
        "\n",
        "        l2_reg = 0\n",
        "        for param in model.parameters():\n",
        "            l2_reg += torch.norm(param)\n",
        "            \n",
        "        cost += l2_reg\n",
        "\n",
        "        optimizer.zero_grad()\n",
        "        cost.backward()\n",
        "        optimizer.step()\n",
        "\n",
        "        print(\"Epoch {:4d}/{}, Cost: {:.6f}\".format(epoch+1, nb_epochs, cost.item()))"
      ],
      "metadata": {
        "id": "RcEJ44ohvUGQ"
      },
      "execution_count": 39,
      "outputs": []
    },
    {
      "cell_type": "code",
      "source": [
        "model = MultivariateLinearRegressionModel()"
      ],
      "metadata": {
        "id": "xHYXivM0qV2r"
      },
      "execution_count": 40,
      "outputs": []
    },
    {
      "cell_type": "code",
      "source": [
        "optimizer = optim.SGD(model.parameters(), lr = 1e-1)"
      ],
      "metadata": {
        "id": "5MPbNPsr0ZYZ"
      },
      "execution_count": 41,
      "outputs": []
    },
    {
      "cell_type": "code",
      "source": [
        "train_with_regularization(model, optimizer, norm_x_train, y_train)"
      ],
      "metadata": {
        "colab": {
          "base_uri": "https://localhost:8080/"
        },
        "id": "TeDZDKV_0Zal",
        "outputId": "fa460df8-7cec-4997-e6ca-ee60dbc4bcdb"
      },
      "execution_count": 42,
      "outputs": [
        {
          "output_type": "stream",
          "name": "stdout",
          "text": [
            "Epoch    1/20, Cost: 29475.767578\n",
            "Epoch    2/20, Cost: 18791.171875\n",
            "Epoch    3/20, Cost: 12053.740234\n",
            "Epoch    4/20, Cost: 7769.610352\n",
            "Epoch    5/20, Cost: 5035.856934\n",
            "Epoch    6/20, Cost: 3288.601074\n",
            "Epoch    7/20, Cost: 2171.032715\n",
            "Epoch    8/20, Cost: 1455.978271\n",
            "Epoch    9/20, Cost: 998.392273\n",
            "Epoch   10/20, Cost: 705.545166\n",
            "Epoch   11/20, Cost: 518.118896\n",
            "Epoch   12/20, Cost: 398.159241\n",
            "Epoch   13/20, Cost: 321.377930\n",
            "Epoch   14/20, Cost: 272.230255\n",
            "Epoch   15/20, Cost: 240.768875\n",
            "Epoch   16/20, Cost: 220.626984\n",
            "Epoch   17/20, Cost: 207.729843\n",
            "Epoch   18/20, Cost: 199.469604\n",
            "Epoch   19/20, Cost: 194.177429\n",
            "Epoch   20/20, Cost: 190.785126\n"
          ]
        }
      ]
    },
    {
      "cell_type": "code",
      "source": [
        "import torch\n",
        "import torchvision.datasets as dsets\n",
        "import torchvision.transforms as transforms\n",
        "import matplotlib.pyplot as plt\n",
        "import random"
      ],
      "metadata": {
        "id": "o9oONKUm0cql"
      },
      "execution_count": 43,
      "outputs": []
    },
    {
      "cell_type": "code",
      "source": [
        "device = \"cuda\" if torch.cuda.is_available() else \"cpu\"\n",
        "\n",
        "random.seed(777)\n",
        "torch.manual_seed(777)\n",
        "if device == \"cuda\":\n",
        "    torch.cuda.manual_seed_all(777)"
      ],
      "metadata": {
        "id": "Phq_rIJF0csx"
      },
      "execution_count": 45,
      "outputs": []
    },
    {
      "cell_type": "code",
      "source": [
        "training_epochs = 15\n",
        "batch_size = 100"
      ],
      "metadata": {
        "id": "QCFntiaz0cvW"
      },
      "execution_count": 56,
      "outputs": []
    },
    {
      "cell_type": "code",
      "source": [
        "mnist_train = dsets.MNIST(root = \"MNIST_data/\",\n",
        "                          train = True,\n",
        "                          transform = transforms.ToTensor(),\n",
        "                          download = True)\n",
        "\n",
        "mnist_test = dsets.MNIST(root = \"MNIST_data/\",\n",
        "                         train = False,\n",
        "                         transform = transforms.ToTensor(),\n",
        "                         download = True)"
      ],
      "metadata": {
        "id": "1DFBDyXj0cyQ"
      },
      "execution_count": 57,
      "outputs": []
    },
    {
      "cell_type": "code",
      "source": [
        "data_loader = torch.utils.data.DataLoader(dataset = mnist_train,\n",
        "                                          batch_size = batch_size,\n",
        "                                          shuffle = True,\n",
        "                                          drop_last = True)"
      ],
      "metadata": {
        "id": "8Os8u9Po0c0O"
      },
      "execution_count": 58,
      "outputs": []
    },
    {
      "cell_type": "code",
      "source": [
        "linear = torch.nn.Linear(784, 10, bias = True).to(device)"
      ],
      "metadata": {
        "id": "bAOUAHG-0c2u"
      },
      "execution_count": 59,
      "outputs": []
    },
    {
      "cell_type": "code",
      "source": [
        "criterion = torch.nn.CrossEntropyLoss().to(device)\n",
        "optimizer = torch.optim.SGD(linear.parameters(), lr = 0.1)"
      ],
      "metadata": {
        "id": "x6-a3K1i0c5K"
      },
      "execution_count": 60,
      "outputs": []
    },
    {
      "cell_type": "code",
      "source": [
        "for epoch in range(training_epochs):\n",
        "    avg_cost = 0\n",
        "    total_batch = len(data_loader)\n",
        "\n",
        "    for X, Y in data_loader:\n",
        "        X = X.view(-1, 28 * 28).to(device)\n",
        "        Y = Y.to(device)\n",
        "\n",
        "        optimizer.zero_grad()\n",
        "        hypothesis = linear(X)\n",
        "        cost = criterion(hypothesis, Y)\n",
        "        cost.backward()\n",
        "        optimizer.step()\n",
        "\n",
        "        avg_cost += cost / total_batch\n",
        "\n",
        "    print(\"Epoch:\", \"%04d\" % (epoch + 1), \", cost =\", \"{:.9f}\".format(avg_cost))\n",
        "\n",
        "print(\"Learning finished\")"
      ],
      "metadata": {
        "colab": {
          "base_uri": "https://localhost:8080/"
        },
        "id": "srh5XybU0c7l",
        "outputId": "af20e4ce-db4f-4763-e1b7-813ee1f2ba46"
      },
      "execution_count": 61,
      "outputs": [
        {
          "output_type": "stream",
          "name": "stdout",
          "text": [
            "Epoch: 0001 , cost = 0.533962846\n",
            "Epoch: 0002 , cost = 0.359108061\n",
            "Epoch: 0003 , cost = 0.330940813\n",
            "Epoch: 0004 , cost = 0.316361904\n",
            "Epoch: 0005 , cost = 0.306856751\n",
            "Epoch: 0006 , cost = 0.300126642\n",
            "Epoch: 0007 , cost = 0.294785112\n",
            "Epoch: 0008 , cost = 0.290628731\n",
            "Epoch: 0009 , cost = 0.287212074\n",
            "Epoch: 0010 , cost = 0.284352064\n",
            "Epoch: 0011 , cost = 0.281648785\n",
            "Epoch: 0012 , cost = 0.279627115\n",
            "Epoch: 0013 , cost = 0.277660429\n",
            "Epoch: 0014 , cost = 0.275821596\n",
            "Epoch: 0015 , cost = 0.274172276\n",
            "Learning finished\n"
          ]
        }
      ]
    },
    {
      "cell_type": "code",
      "source": [
        "with torch.no_grad():\n",
        "    X_test = mnist_test.test_data.view(-1, 28 * 28).float().to(device)\n",
        "    Y_test = mnist_test.test_labels.to(device)\n",
        "\n",
        "    prediction = linear(X_test)\n",
        "    correct_prediction = torch.argmax(prediction, 1) == Y_test\n",
        "    accuracy = correct_prediction.float().mean()\n",
        "    print(\"Accuracy:\", accuracy.item())\n",
        "\n",
        "    r = random.randint(0, len(mnist_test) - 1)\n",
        "    X_single_data = mnist_test.test_data[r:r + 1].view(-1, 28 * 28).float().to(device)\n",
        "    Y_single_data = mnist_test.test_labels[r:r + 1].to(device)\n",
        "\n",
        "    print(\"Label :\", Y_single_data.item())\n",
        "    single_prediction = linear(X_single_data)\n",
        "    print(\"Prediction: \", torch.argmax(single_prediction, 1).item())\n",
        "\n",
        "    plt.imshow(mnist_test.test_data[r:r + 1].view(28, 28), cmap = \"Greys\", interpolation = \"nearest\")\n",
        "    plt.show()"
      ],
      "metadata": {
        "colab": {
          "base_uri": "https://localhost:8080/",
          "height": 394
        },
        "id": "0rHPcZ6v0c-G",
        "outputId": "3bbd5a02-2a86-426e-ecb7-5eb3eec665b4"
      },
      "execution_count": 62,
      "outputs": [
        {
          "output_type": "stream",
          "name": "stdout",
          "text": [
            "Accuracy: 0.8881999850273132\n",
            "Label : 8\n",
            "Prediction:  3\n"
          ]
        },
        {
          "output_type": "stream",
          "name": "stderr",
          "text": [
            "/usr/local/lib/python3.7/dist-packages/torchvision/datasets/mnist.py:80: UserWarning: test_data has been renamed data\n",
            "  warnings.warn(\"test_data has been renamed data\")\n",
            "/usr/local/lib/python3.7/dist-packages/torchvision/datasets/mnist.py:70: UserWarning: test_labels has been renamed targets\n",
            "  warnings.warn(\"test_labels has been renamed targets\")\n"
          ]
        },
        {
          "output_type": "display_data",
          "data": {
            "text/plain": [
              "<Figure size 432x288 with 1 Axes>"
            ],
            "image/png": "[encoded data removed]"
          },
          "metadata": {
            "needs_background": "light"
          }
        }
      ]
    },
    {
      "cell_type": "code",
      "source": [
        ""
      ],
      "metadata": {
        "id": "HtdREjVd0c_9"
      },
      "execution_count": null,
      "outputs": []
    }
  ]
}