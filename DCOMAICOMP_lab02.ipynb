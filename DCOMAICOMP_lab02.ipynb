{
  "nbformat": 4,
  "nbformat_minor": 0,
  "metadata": {
    "colab": {
      "name": "DCOMAICOMP_lab02.ipynb",
      "provenance": [],
      "collapsed_sections": []
    },
    "kernelspec": {
      "name": "python3",
      "display_name": "Python 3"
    },
    "language_info": {
      "name": "python"
    }
  },
  "cells": [
    {
      "cell_type": "code",
      "source": [
        "import torch\n",
        "import torch.nn as nn\n",
        "import torch.nn.functional as F\n",
        "import torch.optim as optim"
      ],
      "metadata": {
        "id": "D8mCCnCZr3H4"
      },
      "execution_count": 1,
      "outputs": []
    },
    {
      "cell_type": "code",
      "source": [
        "torch.manual_seed(1)"
      ],
      "metadata": {
        "colab": {
          "base_uri": "https://localhost:8080/"
        },
        "id": "IshQ2RTdsU4v",
        "outputId": "5781baef-13b2-4984-b9f5-0217c36b86bf"
      },
      "execution_count": 2,
      "outputs": [
        {
          "output_type": "execute_result",
          "data": {
            "text/plain": [
              "<torch._C.Generator at 0x7f3b61f61790>"
            ]
          },
          "metadata": {},
          "execution_count": 2
        }
      ]
    },
    {
      "cell_type": "markdown",
      "source": [
        "**Data definition**"
      ],
      "metadata": {
        "id": "pYrA3PhtrVX3"
      }
    },
    {
      "cell_type": "code",
      "source": [
        "x_train = torch.FloatTensor([[1], [2], [3]])\n",
        "y_train = torch.FloatTensor([[1], [2], [3]])"
      ],
      "metadata": {
        "id": "5ViyQmzMrVht"
      },
      "execution_count": 4,
      "outputs": []
    },
    {
      "cell_type": "code",
      "source": [
        "print(x_train)\n",
        "print(x_train.shape)\n",
        "print(y_train)\n",
        "print(y_train.shape)"
      ],
      "metadata": {
        "colab": {
          "base_uri": "https://localhost:8080/"
        },
        "id": "uESter96s_GU",
        "outputId": "cf01e326-0c5a-4e3e-da11-14e43faf2457"
      },
      "execution_count": 6,
      "outputs": [
        {
          "output_type": "stream",
          "name": "stdout",
          "text": [
            "tensor([[1.],\n",
            "        [2.],\n",
            "        [3.]])\n",
            "torch.Size([3, 1])\n",
            "tensor([[1.],\n",
            "        [2.],\n",
            "        [3.]])\n",
            "torch.Size([3, 1])\n"
          ]
        }
      ]
    },
    {
      "cell_type": "markdown",
      "source": [
        "**Weight initialization**"
      ],
      "metadata": {
        "id": "gJ5d30VHtRx8"
      }
    },
    {
      "cell_type": "code",
      "source": [
        "W = torch.zeros(1, requires_grad = True)\n",
        "\n",
        "print(W)"
      ],
      "metadata": {
        "colab": {
          "base_uri": "https://localhost:8080/"
        },
        "id": "HTqE1R3YtUwP",
        "outputId": "9d7fd352-49f0-4dbd-d844-08666287d0d1"
      },
      "execution_count": 7,
      "outputs": [
        {
          "output_type": "stream",
          "name": "stdout",
          "text": [
            "tensor([0.], requires_grad=True)\n"
          ]
        }
      ]
    },
    {
      "cell_type": "code",
      "source": [
        "b = torch.zeros(1, requires_grad = True)\n",
        "\n",
        "print(b)"
      ],
      "metadata": {
        "colab": {
          "base_uri": "https://localhost:8080/"
        },
        "id": "NA8BYJJ004r_",
        "outputId": "1396e816-ad17-4d26-e81a-64e3dd6adaa6"
      },
      "execution_count": 8,
      "outputs": [
        {
          "output_type": "stream",
          "name": "stdout",
          "text": [
            "tensor([0.], requires_grad=True)\n"
          ]
        }
      ]
    },
    {
      "cell_type": "markdown",
      "source": [
        "**Hypothesis**"
      ],
      "metadata": {
        "id": "o9mJWzdB1DEP"
      }
    },
    {
      "cell_type": "code",
      "source": [
        "hypothesis = x_train * W + b\n",
        "\n",
        "print(hypothesis)"
      ],
      "metadata": {
        "colab": {
          "base_uri": "https://localhost:8080/"
        },
        "id": "V8APusyl05yc",
        "outputId": "a14f4d75-2b71-451f-9f11-7887191749a3"
      },
      "execution_count": 10,
      "outputs": [
        {
          "output_type": "stream",
          "name": "stdout",
          "text": [
            "tensor([[0.],\n",
            "        [0.],\n",
            "        [0.]], grad_fn=<AddBackward0>)\n"
          ]
        }
      ]
    },
    {
      "cell_type": "markdown",
      "source": [
        "**Cost**"
      ],
      "metadata": {
        "id": "C6ijNGGu1NCN"
      }
    },
    {
      "cell_type": "code",
      "source": [
        "print(hypothesis)\n",
        "\n",
        "print(y_train)\n",
        "\n",
        "print(hypothesis - y_train)\n",
        "\n",
        "print((hypothesis - y_train) ** 2)"
      ],
      "metadata": {
        "colab": {
          "base_uri": "https://localhost:8080/"
        },
        "id": "LlECgOdZ06FU",
        "outputId": "aee629fd-3935-4132-e43f-56abb2ac8e11"
      },
      "execution_count": 11,
      "outputs": [
        {
          "output_type": "stream",
          "name": "stdout",
          "text": [
            "tensor([[0.],\n",
            "        [0.],\n",
            "        [0.]], grad_fn=<AddBackward0>)\n",
            "tensor([[1.],\n",
            "        [2.],\n",
            "        [3.]])\n",
            "tensor([[-1.],\n",
            "        [-2.],\n",
            "        [-3.]], grad_fn=<SubBackward0>)\n",
            "tensor([[1.],\n",
            "        [4.],\n",
            "        [9.]], grad_fn=<PowBackward0>)\n"
          ]
        }
      ]
    },
    {
      "cell_type": "code",
      "source": [
        "cost = torch.mean((hypothesis - y_train) ** 2)\n",
        "\n",
        "print(cost)"
      ],
      "metadata": {
        "colab": {
          "base_uri": "https://localhost:8080/"
        },
        "id": "wbwu2Ecf06OP",
        "outputId": "94fd7d3c-3de6-4f3e-b5e8-8de3eaa735f3"
      },
      "execution_count": 12,
      "outputs": [
        {
          "output_type": "stream",
          "name": "stdout",
          "text": [
            "tensor(4.6667, grad_fn=<MeanBackward0>)\n"
          ]
        }
      ]
    },
    {
      "cell_type": "markdown",
      "source": [
        "**Gradient Descent**"
      ],
      "metadata": {
        "id": "4MHpHicC1q7x"
      }
    },
    {
      "cell_type": "code",
      "source": [
        "optimizer = optim.SGD([W, b], lr = 0.01)"
      ],
      "metadata": {
        "id": "iG8WN5i106Sz"
      },
      "execution_count": 13,
      "outputs": []
    },
    {
      "cell_type": "code",
      "source": [
        "optimizer.zero_grad()\n",
        "cost.backward()\n",
        "optimizer.step()"
      ],
      "metadata": {
        "id": "OpTRigDH06Xv"
      },
      "execution_count": 14,
      "outputs": []
    },
    {
      "cell_type": "code",
      "source": [
        "print(W)\n",
        "print(b)"
      ],
      "metadata": {
        "colab": {
          "base_uri": "https://localhost:8080/"
        },
        "id": "USBCXrLB06cr",
        "outputId": "f5bc3478-c2c1-4748-b98f-21ab752a91ed"
      },
      "execution_count": 15,
      "outputs": [
        {
          "output_type": "stream",
          "name": "stdout",
          "text": [
            "tensor([0.0933], requires_grad=True)\n",
            "tensor([0.0400], requires_grad=True)\n"
          ]
        }
      ]
    },
    {
      "cell_type": "code",
      "source": [
        "hypothesis = x_train * W + b\n",
        "\n",
        "print(hypothesis)"
      ],
      "metadata": {
        "colab": {
          "base_uri": "https://localhost:8080/"
        },
        "id": "VxSeby__06is",
        "outputId": "bfb7a7ac-1273-41e8-c5dd-4aabf1853406"
      },
      "execution_count": 17,
      "outputs": [
        {
          "output_type": "stream",
          "name": "stdout",
          "text": [
            "tensor([[0.1333],\n",
            "        [0.2267],\n",
            "        [0.3200]], grad_fn=<AddBackward0>)\n"
          ]
        }
      ]
    },
    {
      "cell_type": "code",
      "source": [
        "cost = torch.mean((hypothesis - y_train) ** 2)\n",
        "\n",
        "print(cost)"
      ],
      "metadata": {
        "colab": {
          "base_uri": "https://localhost:8080/"
        },
        "id": "ohFztqjT06nQ",
        "outputId": "3baf8a7d-3bc5-4a7d-824a-78d6c934f6a9"
      },
      "execution_count": 18,
      "outputs": [
        {
          "output_type": "stream",
          "name": "stdout",
          "text": [
            "tensor(3.6927, grad_fn=<MeanBackward0>)\n"
          ]
        }
      ]
    },
    {
      "cell_type": "markdown",
      "source": [
        "**Training with Full Code**"
      ],
      "metadata": {
        "id": "HTt4PsuE-Unv"
      }
    },
    {
      "cell_type": "code",
      "source": [
        "x_train = torch.FloatTensor([[1], [2], [3]])\n",
        "y_train = torch.FloatTensor([[1], [2], [3]])\n",
        "\n",
        "W = torch.zeros(1, requires_grad = True)\n",
        "b = torch.zeros(1, requires_grad = True)\n",
        "\n",
        "optimizer = optim.SGD([W, b], lr = 0.01)\n",
        "\n",
        "nb_epochs = 1000\n",
        "\n",
        "for epoch in range(nb_epochs + 1):\n",
        "  hypothesis = x_train * W + b\n",
        "\n",
        "  cost = torch.mean((hypothesis - y_train) ** 2)\n",
        "\n",
        "  optimizer.zero_grad()\n",
        "  cost.backward()\n",
        "  optimizer.step()\n",
        "\n",
        "  if epoch % 100 == 0:\n",
        "    print(\"Epoch {:4d}/{} W: {:.3f}, b: {:.3f}, Cost: {:.6f}\".format(epoch, nb_epochs, W.item(), b.item(), cost.item()))"
      ],
      "metadata": {
        "colab": {
          "base_uri": "https://localhost:8080/"
        },
        "id": "-1cS7_e506sO",
        "outputId": "d4cdbb43-7106-48c1-8c91-629d29844e3a"
      },
      "execution_count": 19,
      "outputs": [
        {
          "output_type": "stream",
          "name": "stdout",
          "text": [
            "Epoch    0/1000 W: 0.093, b: 0.040, Cost: 4.666667\n",
            "Epoch  100/1000 W: 0.873, b: 0.289, Cost: 0.012043\n",
            "Epoch  200/1000 W: 0.900, b: 0.227, Cost: 0.007442\n",
            "Epoch  300/1000 W: 0.921, b: 0.179, Cost: 0.004598\n",
            "Epoch  400/1000 W: 0.938, b: 0.140, Cost: 0.002842\n",
            "Epoch  500/1000 W: 0.951, b: 0.110, Cost: 0.001756\n",
            "Epoch  600/1000 W: 0.962, b: 0.087, Cost: 0.001085\n",
            "Epoch  700/1000 W: 0.970, b: 0.068, Cost: 0.000670\n",
            "Epoch  800/1000 W: 0.976, b: 0.054, Cost: 0.000414\n",
            "Epoch  900/1000 W: 0.981, b: 0.042, Cost: 0.000256\n",
            "Epoch 1000/1000 W: 0.985, b: 0.033, Cost: 0.000158\n"
          ]
        }
      ]
    },
    {
      "cell_type": "markdown",
      "source": [
        "**High Level Implementation with nn.Module**"
      ],
      "metadata": {
        "id": "-0ZXzZHdBdaZ"
      }
    },
    {
      "cell_type": "code",
      "source": [
        "x_train = torch.FloatTensor([[1], [2], [3]])\n",
        "y_train = torch.FloatTensor([[1], [2], [3]])"
      ],
      "metadata": {
        "id": "MJ_bBiJX06wx"
      },
      "execution_count": 20,
      "outputs": []
    },
    {
      "cell_type": "code",
      "source": [
        "class LinearRegressionModel(nn.Module):\n",
        "  def __init__(self):\n",
        "    super().__init__()\n",
        "    self.linear = nn.Linear(1, 1)\n",
        "\n",
        "  def forward(self, x):\n",
        "    return self.linear(x)"
      ],
      "metadata": {
        "id": "alB44dHsBoTm"
      },
      "execution_count": 24,
      "outputs": []
    },
    {
      "cell_type": "code",
      "source": [
        "model = LinearRegressionModel()"
      ],
      "metadata": {
        "id": "w97lcnX8BoXK"
      },
      "execution_count": 25,
      "outputs": []
    },
    {
      "cell_type": "markdown",
      "source": [
        "**Hypothesis**"
      ],
      "metadata": {
        "id": "8rcfZr85CIxy"
      }
    },
    {
      "cell_type": "code",
      "source": [
        "hypothesis = model(x_train)"
      ],
      "metadata": {
        "id": "_Dbvr-nCBoaM"
      },
      "execution_count": 26,
      "outputs": []
    },
    {
      "cell_type": "code",
      "source": [
        "print(hypothesis)"
      ],
      "metadata": {
        "colab": {
          "base_uri": "https://localhost:8080/"
        },
        "id": "SVjcfcQGBoc0",
        "outputId": "736df309-b779-4236-d90e-860cf4c7922b"
      },
      "execution_count": 27,
      "outputs": [
        {
          "output_type": "stream",
          "name": "stdout",
          "text": [
            "tensor([[0.0739],\n",
            "        [0.5891],\n",
            "        [1.1044]], grad_fn=<AddmmBackward0>)\n"
          ]
        }
      ]
    },
    {
      "cell_type": "markdown",
      "source": [
        "**Cost**"
      ],
      "metadata": {
        "id": "dXKD2gUNCSBQ"
      }
    },
    {
      "cell_type": "code",
      "source": [
        "print(hypothesis)\n",
        "print(y_train)"
      ],
      "metadata": {
        "colab": {
          "base_uri": "https://localhost:8080/"
        },
        "id": "Krz6Y7Z3BofT",
        "outputId": "647b4236-4bfb-4d59-eb91-cf1938dcbe26"
      },
      "execution_count": 29,
      "outputs": [
        {
          "output_type": "stream",
          "name": "stdout",
          "text": [
            "tensor([[0.0739],\n",
            "        [0.5891],\n",
            "        [1.1044]], grad_fn=<AddmmBackward0>)\n",
            "tensor([[1.],\n",
            "        [2.],\n",
            "        [3.]])\n"
          ]
        }
      ]
    },
    {
      "cell_type": "code",
      "source": [
        "cost = F.mse_loss(hypothesis, y_train)"
      ],
      "metadata": {
        "id": "mDFMuTSUBoh9"
      },
      "execution_count": 30,
      "outputs": []
    },
    {
      "cell_type": "code",
      "source": [
        "print(cost)"
      ],
      "metadata": {
        "colab": {
          "base_uri": "https://localhost:8080/"
        },
        "id": "CqKVJHdfCqrz",
        "outputId": "5804d726-c5bb-49a6-c7d5-45d441564ffc"
      },
      "execution_count": 31,
      "outputs": [
        {
          "output_type": "stream",
          "name": "stdout",
          "text": [
            "tensor(2.1471, grad_fn=<MseLossBackward0>)\n"
          ]
        }
      ]
    },
    {
      "cell_type": "markdown",
      "source": [
        "**Gradient Descent**"
      ],
      "metadata": {
        "id": "CGViFoJOC32r"
      }
    },
    {
      "cell_type": "code",
      "source": [
        "optimizer = optim.SGD(model.parameters(), lr=0.01)"
      ],
      "metadata": {
        "id": "0kzvryoFCquG"
      },
      "execution_count": 32,
      "outputs": []
    },
    {
      "cell_type": "code",
      "source": [
        "optimizer.zero_grad()\n",
        "cost.backward()\n",
        "optimizer.step()"
      ],
      "metadata": {
        "id": "hsABVpCACqww"
      },
      "execution_count": 33,
      "outputs": []
    },
    {
      "cell_type": "markdown",
      "source": [
        "**Training with Full Code**"
      ],
      "metadata": {
        "id": "8B5hMz9LDBHN"
      }
    },
    {
      "cell_type": "code",
      "source": [
        "x_train = torch.FloatTensor([[1], [2], [3]])\n",
        "y_train = torch.FloatTensor([[1], [2], [3]])\n",
        "\n",
        "model = LinearRegressionModel()\n",
        "\n",
        "optimizer = optim.SGD(model.parameters(), lr=0.01)\n",
        "\n",
        "nb_epochs = 1000\n",
        "\n",
        "for epoch in range(nb_epochs + 1):\n",
        "    prediction = model(x_train)\n",
        "\n",
        "    cost = F.mse_loss(prediction, y_train)\n",
        "    \n",
        "    optimizer.zero_grad()\n",
        "    cost.backward()\n",
        "    optimizer.step()\n",
        "\n",
        "    if epoch % 100 == 0:\n",
        "        params = list(model.parameters())\n",
        "        W = params[0].item()\n",
        "        b = params[1].item()\n",
        "        print(\"Epoch {:4d}/{}, W: {:.3f}, b: {:.3f}, Cost: {:.6f}\".format(epoch, nb_epochs, W, b, cost.item()))"
      ],
      "metadata": {
        "colab": {
          "base_uri": "https://localhost:8080/"
        },
        "id": "kyYWhh2dCqzS",
        "outputId": "758d25cb-ba2d-4a28-8599-0257a487f7d8"
      },
      "execution_count": 36,
      "outputs": [
        {
          "output_type": "stream",
          "name": "stdout",
          "text": [
            "Epoch    0/1000, W: -0.101, b: 0.508, Cost: 4.630286\n",
            "Epoch  100/1000, W: 0.713, b: 0.653, Cost: 0.061555\n",
            "Epoch  200/1000, W: 0.774, b: 0.514, Cost: 0.038037\n",
            "Epoch  300/1000, W: 0.822, b: 0.404, Cost: 0.023505\n",
            "Epoch  400/1000, W: 0.860, b: 0.317, Cost: 0.014525\n",
            "Epoch  500/1000, W: 0.890, b: 0.250, Cost: 0.008975\n",
            "Epoch  600/1000, W: 0.914, b: 0.196, Cost: 0.005546\n",
            "Epoch  700/1000, W: 0.932, b: 0.154, Cost: 0.003427\n",
            "Epoch  800/1000, W: 0.947, b: 0.121, Cost: 0.002118\n",
            "Epoch  900/1000, W: 0.958, b: 0.095, Cost: 0.001309\n",
            "Epoch 1000/1000, W: 0.967, b: 0.075, Cost: 0.000809\n"
          ]
        }
      ]
    }
  ]
}