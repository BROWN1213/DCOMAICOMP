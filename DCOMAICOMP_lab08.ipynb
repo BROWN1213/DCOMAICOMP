{
  "nbformat": 4,
  "nbformat_minor": 0,
  "metadata": {
    "colab": {
      "name": "DCOMAICOMP_lab08.ipynb",
      "provenance": [],
      "collapsed_sections": []
    },
    "kernelspec": {
      "name": "python3",
      "display_name": "Python 3"
    },
    "language_info": {
      "name": "python"
    }
  },
  "cells": [
    {
      "cell_type": "markdown",
      "source": [
        "**XOR**"
      ],
      "metadata": {
        "id": "UoYk7-B2hSrK"
      }
    },
    {
      "cell_type": "code",
      "execution_count": null,
      "metadata": {
        "id": "wWchsFO7Bnei"
      },
      "outputs": [],
      "source": [
        "import torch"
      ]
    },
    {
      "cell_type": "code",
      "source": [
        "device = \"cuda\" if torch.cuda.is_available() else \"cpu\"\n",
        "\n",
        "torch.manual_seed(777)\n",
        "if device == \"cuda\":\n",
        "    torch.cuda.manual_seed_all(777)"
      ],
      "metadata": {
        "id": "GfM_MAOrKtzs"
      },
      "execution_count": null,
      "outputs": []
    },
    {
      "cell_type": "code",
      "source": [
        "X = torch.FloatTensor([[0, 0], [0, 1], [1, 0], [1, 1]]).to(device)\n",
        "Y = torch.FloatTensor([[0], [1], [1], [0]]).to(device)"
      ],
      "metadata": {
        "id": "aC8vQqcYKt2L"
      },
      "execution_count": null,
      "outputs": []
    },
    {
      "cell_type": "code",
      "source": [
        "linear = torch.nn.Linear(2, 1, bias = True)\n",
        "sigmoid = torch.nn.Sigmoid()"
      ],
      "metadata": {
        "id": "9bRYzMlwKt4e"
      },
      "execution_count": null,
      "outputs": []
    },
    {
      "cell_type": "code",
      "source": [
        "model = torch.nn.Sequential(linear, sigmoid).to(device)"
      ],
      "metadata": {
        "id": "yEo11dVFKt69"
      },
      "execution_count": null,
      "outputs": []
    },
    {
      "cell_type": "code",
      "source": [
        "criterion = torch.nn.BCELoss().to(device)\n",
        "optimizer = torch.optim.SGD(model.parameters(), lr = 1)"
      ],
      "metadata": {
        "id": "VG6POttRKt9W"
      },
      "execution_count": null,
      "outputs": []
    },
    {
      "cell_type": "code",
      "source": [
        "for step in range(10001):\n",
        "    optimizer.zero_grad()\n",
        "    hypothesis = model(X)\n",
        "\n",
        "    cost = criterion(hypothesis, Y)\n",
        "    cost.backward()\n",
        "    optimizer.step()\n",
        "\n",
        "    if step % 100 == 0:\n",
        "        print(step, cost.item())"
      ],
      "metadata": {
        "colab": {
          "base_uri": "https://localhost:8080/"
        },
        "id": "OkXhBv1tKt_w",
        "outputId": "aba28311-5789-41f1-e7b4-d5438538eb20"
      },
      "execution_count": null,
      "outputs": [
        {
          "output_type": "stream",
          "name": "stdout",
          "text": [
            "0 0.7273974418640137\n",
            "100 0.6931476593017578\n",
            "200 0.6931471824645996\n",
            "300 0.6931471824645996\n",
            "400 0.6931471824645996\n",
            "500 0.6931471824645996\n",
            "600 0.6931471824645996\n",
            "700 0.6931471824645996\n",
            "800 0.6931471824645996\n",
            "900 0.6931471824645996\n",
            "1000 0.6931471824645996\n",
            "1100 0.6931471824645996\n",
            "1200 0.6931471824645996\n",
            "1300 0.6931471824645996\n",
            "1400 0.6931471824645996\n",
            "1500 0.6931471824645996\n",
            "1600 0.6931471824645996\n",
            "1700 0.6931471824645996\n",
            "1800 0.6931471824645996\n",
            "1900 0.6931471824645996\n",
            "2000 0.6931471824645996\n",
            "2100 0.6931471824645996\n",
            "2200 0.6931471824645996\n",
            "2300 0.6931471824645996\n",
            "2400 0.6931471824645996\n",
            "2500 0.6931471824645996\n",
            "2600 0.6931471824645996\n",
            "2700 0.6931471824645996\n",
            "2800 0.6931471824645996\n",
            "2900 0.6931471824645996\n",
            "3000 0.6931471824645996\n",
            "3100 0.6931471824645996\n",
            "3200 0.6931471824645996\n",
            "3300 0.6931471824645996\n",
            "3400 0.6931471824645996\n",
            "3500 0.6931471824645996\n",
            "3600 0.6931471824645996\n",
            "3700 0.6931471824645996\n",
            "3800 0.6931471824645996\n",
            "3900 0.6931471824645996\n",
            "4000 0.6931471824645996\n",
            "4100 0.6931471824645996\n",
            "4200 0.6931471824645996\n",
            "4300 0.6931471824645996\n",
            "4400 0.6931471824645996\n",
            "4500 0.6931471824645996\n",
            "4600 0.6931471824645996\n",
            "4700 0.6931471824645996\n",
            "4800 0.6931471824645996\n",
            "4900 0.6931471824645996\n",
            "5000 0.6931471824645996\n",
            "5100 0.6931471824645996\n",
            "5200 0.6931471824645996\n",
            "5300 0.6931471824645996\n",
            "5400 0.6931471824645996\n",
            "5500 0.6931471824645996\n",
            "5600 0.6931471824645996\n",
            "5700 0.6931471824645996\n",
            "5800 0.6931471824645996\n",
            "5900 0.6931471824645996\n",
            "6000 0.6931471824645996\n",
            "6100 0.6931471824645996\n",
            "6200 0.6931471824645996\n",
            "6300 0.6931471824645996\n",
            "6400 0.6931471824645996\n",
            "6500 0.6931471824645996\n",
            "6600 0.6931471824645996\n",
            "6700 0.6931471824645996\n",
            "6800 0.6931471824645996\n",
            "6900 0.6931471824645996\n",
            "7000 0.6931471824645996\n",
            "7100 0.6931471824645996\n",
            "7200 0.6931471824645996\n",
            "7300 0.6931471824645996\n",
            "7400 0.6931471824645996\n",
            "7500 0.6931471824645996\n",
            "7600 0.6931471824645996\n",
            "7700 0.6931471824645996\n",
            "7800 0.6931471824645996\n",
            "7900 0.6931471824645996\n",
            "8000 0.6931471824645996\n",
            "8100 0.6931471824645996\n",
            "8200 0.6931471824645996\n",
            "8300 0.6931471824645996\n",
            "8400 0.6931471824645996\n",
            "8500 0.6931471824645996\n",
            "8600 0.6931471824645996\n",
            "8700 0.6931471824645996\n",
            "8800 0.6931471824645996\n",
            "8900 0.6931471824645996\n",
            "9000 0.6931471824645996\n",
            "9100 0.6931471824645996\n",
            "9200 0.6931471824645996\n",
            "9300 0.6931471824645996\n",
            "9400 0.6931471824645996\n",
            "9500 0.6931471824645996\n",
            "9600 0.6931471824645996\n",
            "9700 0.6931471824645996\n",
            "9800 0.6931471824645996\n",
            "9900 0.6931471824645996\n",
            "10000 0.6931471824645996\n"
          ]
        }
      ]
    },
    {
      "cell_type": "code",
      "source": [
        "with torch.no_grad():\n",
        "    hypothesis = model(X)\n",
        "    predicted = (hypothesis > 0.5).float()\n",
        "    accuracy = (predicted == Y).float().mean()\n",
        "    print(\"\\nHypothesis:\", hypothesis.detach().cpu().numpy(), \"\\nCorrect:\", predicted.detach().cpu().numpy(), \"\\nAccuracy:\", accuracy.item())"
      ],
      "metadata": {
        "colab": {
          "base_uri": "https://localhost:8080/"
        },
        "id": "2aK0iqQPKuCI",
        "outputId": "18307d2c-d8ee-4e06-b70a-b227c09275a6"
      },
      "execution_count": null,
      "outputs": [
        {
          "output_type": "stream",
          "name": "stdout",
          "text": [
            "\n",
            "Hypothesis: [[0.5]\n",
            " [0.5]\n",
            " [0.5]\n",
            " [0.5]] \n",
            "Correct: [[0.]\n",
            " [0.]\n",
            " [0.]\n",
            " [0.]] \n",
            "Accuracy: 0.5\n"
          ]
        }
      ]
    },
    {
      "cell_type": "markdown",
      "source": [
        "**XOR_NN**"
      ],
      "metadata": {
        "id": "uES2R8_YhXsF"
      }
    },
    {
      "cell_type": "code",
      "source": [
        "import torch"
      ],
      "metadata": {
        "id": "zI6PfURTKuEo"
      },
      "execution_count": null,
      "outputs": []
    },
    {
      "cell_type": "code",
      "source": [
        "device = \"cuda\" if torch.cuda.is_available() else \"cpu\"\n",
        "\n",
        "torch.manual_seed(777)\n",
        "if device == \"cuda\":\n",
        "    torch.cuda.manual_seed_all(777)"
      ],
      "metadata": {
        "id": "w4ix0mhOKuHq"
      },
      "execution_count": null,
      "outputs": []
    },
    {
      "cell_type": "code",
      "source": [
        "X = torch.FloatTensor([[0, 0], [0, 1], [1, 0], [1, 1]]).to(device)\n",
        "Y = torch.FloatTensor([[0], [1], [1], [0]]).to(device)"
      ],
      "metadata": {
        "id": "qBI3I3brKuKK"
      },
      "execution_count": null,
      "outputs": []
    },
    {
      "cell_type": "code",
      "source": [
        "linear1 = torch.nn.Linear(2, 2, bias = True)\n",
        "linear2 = torch.nn.Linear(2, 1, bias = True)\n",
        "sigmoid = torch.nn.Sigmoid()"
      ],
      "metadata": {
        "id": "uYbrPprbKuM4"
      },
      "execution_count": null,
      "outputs": []
    },
    {
      "cell_type": "code",
      "source": [
        "model = torch.nn.Sequential(linear1, sigmoid, linear2, sigmoid).to(device)"
      ],
      "metadata": {
        "id": "ZwqHLeErKuPs"
      },
      "execution_count": null,
      "outputs": []
    },
    {
      "cell_type": "code",
      "source": [
        "criterion = torch.nn.BCELoss().to(device)\n",
        "optimizer = torch.optim.SGD(model.parameters(), lr = 1)"
      ],
      "metadata": {
        "id": "mhC-RQKmKuST"
      },
      "execution_count": null,
      "outputs": []
    },
    {
      "cell_type": "code",
      "source": [
        "for step in range(10001):\n",
        "    optimizer.zero_grad()\n",
        "    hypothesis = model(X)\n",
        "\n",
        "    cost = criterion(hypothesis, Y)\n",
        "    cost.backward()\n",
        "    optimizer.step()\n",
        "\n",
        "    if step % 100 == 0:\n",
        "        print(step, cost.item())"
      ],
      "metadata": {
        "colab": {
          "base_uri": "https://localhost:8080/"
        },
        "id": "Zy1xcBc8KuUt",
        "outputId": "29a39112-e8ca-4968-ee1f-3270154fbbdf"
      },
      "execution_count": null,
      "outputs": [
        {
          "output_type": "stream",
          "name": "stdout",
          "text": [
            "0 0.7434073090553284\n",
            "100 0.693165123462677\n",
            "200 0.6931577920913696\n",
            "300 0.6931517124176025\n",
            "400 0.6931463479995728\n",
            "500 0.6931411027908325\n",
            "600 0.6931357383728027\n",
            "700 0.6931295394897461\n",
            "800 0.6931220889091492\n",
            "900 0.6931126117706299\n",
            "1000 0.6930999755859375\n",
            "1100 0.693082332611084\n",
            "1200 0.6930569410324097\n",
            "1300 0.6930191516876221\n",
            "1400 0.6929606199264526\n",
            "1500 0.6928660273551941\n",
            "1600 0.6927032470703125\n",
            "1700 0.6923960447311401\n",
            "1800 0.6917302012443542\n",
            "1900 0.6899654269218445\n",
            "2000 0.6838315725326538\n",
            "2100 0.6561667323112488\n",
            "2200 0.43110138177871704\n",
            "2300 0.13489334285259247\n",
            "2400 0.06630435585975647\n",
            "2500 0.042168181389570236\n",
            "2600 0.030453868210315704\n",
            "2700 0.023665912449359894\n",
            "2800 0.01927776448428631\n",
            "2900 0.016224022954702377\n",
            "3000 0.013983809389173985\n",
            "3100 0.012273931875824928\n",
            "3200 0.010928118601441383\n",
            "3300 0.009842473082244396\n",
            "3400 0.008949032984673977\n",
            "3500 0.008201321586966515\n",
            "3600 0.007566752843558788\n",
            "3700 0.007021686062216759\n",
            "3800 0.006548595614731312\n",
            "3900 0.006134253926575184\n",
            "4000 0.005768344737589359\n",
            "4100 0.0054430365562438965\n",
            "4200 0.005151905119419098\n",
            "4300 0.004889918025583029\n",
            "4400 0.0046528722159564495\n",
            "4500 0.004437457304447889\n",
            "4600 0.004240859299898148\n",
            "4700 0.004060687031596899\n",
            "4800 0.003895031288266182\n",
            "4900 0.0037421947345137596\n",
            "5000 0.0036007347516715527\n",
            "5100 0.003469479735940695\n",
            "5200 0.0033473046496510506\n",
            "5300 0.0032333978451788425\n",
            "5400 0.0031268750317394733\n",
            "5500 0.0030270610004663467\n",
            "5600 0.0029333550482988358\n",
            "5700 0.0028452035039663315\n",
            "5800 0.00276215560734272\n",
            "5900 0.002683777129277587\n",
            "6000 0.0026096487417817116\n",
            "6100 0.0025394847616553307\n",
            "6200 0.0024729417636990547\n",
            "6300 0.0024097643326967955\n",
            "6400 0.002349698217585683\n",
            "6500 0.0022925634402781725\n",
            "6600 0.002238075714558363\n",
            "6700 0.002186085097491741\n",
            "6800 0.0021364721469581127\n",
            "6900 0.002089011948555708\n",
            "7000 0.00204361486248672\n",
            "7100 0.0020001311786472797\n",
            "7200 0.0019584265537559986\n",
            "7300 0.0019184107659384608\n",
            "7400 0.0018799942918121815\n",
            "7500 0.0018430722411721945\n",
            "7600 0.0018075549742206931\n",
            "7700 0.0017733527347445488\n",
            "7800 0.0017404207028448582\n",
            "7900 0.0017087137093767524\n",
            "8000 0.001678097527474165\n",
            "8100 0.0016485571395605803\n",
            "8200 0.0016200175741687417\n",
            "8300 0.0015924491453915834\n",
            "8400 0.0015657918993383646\n",
            "8500 0.0015400308184325695\n",
            "8600 0.0015150614781305194\n",
            "8700 0.0014909137971699238\n",
            "8800 0.0014674977865070105\n",
            "8900 0.001444813678972423\n",
            "9000 0.0014228165382519364\n",
            "9100 0.0014014765620231628\n",
            "9200 0.0013806892093271017\n",
            "9300 0.0013606036081910133\n",
            "9400 0.0013410557294264436\n",
            "9500 0.001322030322626233\n",
            "9600 0.001303557539358735\n",
            "9700 0.001285637030377984\n",
            "9800 0.0012681199004873633\n",
            "9900 0.0012511102249845862\n",
            "10000 0.0012345188297331333\n"
          ]
        }
      ]
    },
    {
      "cell_type": "code",
      "source": [
        "with torch.no_grad():\n",
        "    hypothesis = model(X)\n",
        "    predicted = (hypothesis > 0.5).float()\n",
        "    accuracy = (predicted == Y).float().mean()\n",
        "    print(\"\\nHypothesis:\", hypothesis.detach().cpu().numpy(), \"\\nCorrect:\", predicted.detach().cpu().numpy(), \"\\nAccuracy:\", accuracy.item())"
      ],
      "metadata": {
        "colab": {
          "base_uri": "https://localhost:8080/"
        },
        "id": "fsM8V0wMS_-W",
        "outputId": "780681ed-ca17-4426-84ec-297d3c0f58e6"
      },
      "execution_count": null,
      "outputs": [
        {
          "output_type": "stream",
          "name": "stdout",
          "text": [
            "\n",
            "Hypothesis: [[0.00106364]\n",
            " [0.99889404]\n",
            " [0.99889404]\n",
            " [0.00165861]] \n",
            "Correct: [[0.]\n",
            " [1.]\n",
            " [1.]\n",
            " [0.]] \n",
            "Accuracy: 1.0\n"
          ]
        }
      ]
    },
    {
      "cell_type": "markdown",
      "source": [
        "**XOR_NN_WIDE_DEEP**"
      ],
      "metadata": {
        "id": "wVoJ4IhUhaZH"
      }
    },
    {
      "cell_type": "code",
      "source": [
        "import torch"
      ],
      "metadata": {
        "id": "a-KCoc9jTAAR"
      },
      "execution_count": null,
      "outputs": []
    },
    {
      "cell_type": "code",
      "source": [
        "device = \"cuda\" if torch.cuda.is_available() else \"cpu\"\n",
        "\n",
        "torch.manual_seed(777)\n",
        "if device == \"cuda\":\n",
        "    torch.cuda.manual_seed_all(777)"
      ],
      "metadata": {
        "id": "vJy2taKoTLEZ"
      },
      "execution_count": null,
      "outputs": []
    },
    {
      "cell_type": "code",
      "source": [
        "X = torch.FloatTensor([[0, 0], [0, 1], [1, 0], [1, 1]]).to(device)\n",
        "Y = torch.FloatTensor([[0], [1], [1], [0]]).to(device)"
      ],
      "metadata": {
        "id": "kWPu6ENuTLGc"
      },
      "execution_count": null,
      "outputs": []
    },
    {
      "cell_type": "code",
      "source": [
        "linear1 = torch.nn.Linear(2, 10, bias = True)\n",
        "linear2 = torch.nn.Linear(10, 10, bias = True)\n",
        "linear3 = torch.nn.Linear(10, 10, bias = True)\n",
        "linear4 = torch.nn.Linear(10, 1, bias = True)\n",
        "sigmoid = torch.nn.Sigmoid()"
      ],
      "metadata": {
        "id": "WC8q3yMJTLIs"
      },
      "execution_count": null,
      "outputs": []
    },
    {
      "cell_type": "code",
      "source": [
        "model = torch.nn.Sequential(linear1, sigmoid, linear2, sigmoid, linear3, sigmoid, linear4, sigmoid).to(device)"
      ],
      "metadata": {
        "id": "lzIH55eqTLK1"
      },
      "execution_count": null,
      "outputs": []
    },
    {
      "cell_type": "code",
      "source": [
        "criterion = torch.nn.BCELoss().to(device)\n",
        "optimizer = torch.optim.SGD(model.parameters(), lr = 1)"
      ],
      "metadata": {
        "id": "OLYRqX7PTLNF"
      },
      "execution_count": null,
      "outputs": []
    },
    {
      "cell_type": "code",
      "source": [
        "for step in range(10001):\n",
        "    optimizer.zero_grad()\n",
        "    hypothesis = model(X)\n",
        "\n",
        "    cost = criterion(hypothesis, Y)\n",
        "    cost.backward()\n",
        "    optimizer.step()\n",
        "\n",
        "    if step % 100 == 0:\n",
        "        print(step, cost.item())"
      ],
      "metadata": {
        "colab": {
          "base_uri": "https://localhost:8080/"
        },
        "id": "Byv42FcuTLPC",
        "outputId": "02a06335-7d1a-4614-b8ea-d9c3deb75a6a"
      },
      "execution_count": null,
      "outputs": [
        {
          "output_type": "stream",
          "name": "stdout",
          "text": [
            "0 0.6978083848953247\n",
            "100 0.6931105256080627\n",
            "200 0.6931020021438599\n",
            "300 0.6930921673774719\n",
            "400 0.6930808424949646\n",
            "500 0.6930676698684692\n",
            "600 0.6930519938468933\n",
            "700 0.69303297996521\n",
            "800 0.6930099129676819\n",
            "900 0.6929808855056763\n",
            "1000 0.6929439902305603\n",
            "1100 0.6928958296775818\n",
            "1200 0.6928311586380005\n",
            "1300 0.6927415132522583\n",
            "1400 0.6926121115684509\n",
            "1500 0.692415714263916\n",
            "1600 0.6920979619026184\n",
            "1700 0.6915386915206909\n",
            "1800 0.6904336214065552\n",
            "1900 0.6878381371498108\n",
            "2000 0.6797102689743042\n",
            "2100 0.6408315300941467\n",
            "2200 0.5488754510879517\n",
            "2300 0.5083184242248535\n",
            "2400 0.487520694732666\n",
            "2500 0.49485543370246887\n",
            "2600 0.02016819454729557\n",
            "2700 0.007714720442891121\n",
            "2800 0.004507085308432579\n",
            "2900 0.0031063584610819817\n",
            "3000 0.0023384878877550364\n",
            "3100 0.0018596660811454058\n",
            "3200 0.0015350303146988153\n",
            "3300 0.001301785814575851\n",
            "3400 0.0011267174268141389\n",
            "3500 0.000990909757092595\n",
            "3600 0.0008827425772324204\n",
            "3700 0.0007947051781229675\n",
            "3800 0.0007217370439320803\n",
            "3900 0.0006604348309338093\n",
            "4000 0.0006082020699977875\n",
            "4100 0.0005631884559988976\n",
            "4200 0.000524051021784544\n",
            "4300 0.000489760481286794\n",
            "4400 0.0004594516649376601\n",
            "4500 0.0004324532928876579\n",
            "4600 0.00040836259722709656\n",
            "4700 0.0003865980252157897\n",
            "4800 0.0003669954021461308\n",
            "4900 0.0003491819661576301\n",
            "5000 0.00033291912404820323\n",
            "5100 0.00031799805583432317\n",
            "5200 0.00030432932544499636\n",
            "5300 0.00029174890369176865\n",
            "5400 0.0002800629590637982\n",
            "5500 0.0002692416310310364\n",
            "5600 0.00025921044289134443\n",
            "5700 0.00024985006893984973\n",
            "5800 0.00024114560801535845\n",
            "5900 0.00023296286235563457\n",
            "6000 0.0002253167622257024\n",
            "6100 0.0002180731389671564\n",
            "6200 0.00021130652748979628\n",
            "6300 0.00020492747717071325\n",
            "6400 0.000198921057744883\n",
            "6500 0.0001931829610839486\n",
            "6600 0.00018778766389004886\n",
            "6700 0.00018267560517415404\n",
            "6800 0.00017781692440621555\n",
            "6900 0.00017319673497695476\n",
            "7000 0.00016881502233445644\n",
            "7100 0.00016461216728202999\n",
            "7200 0.0001606179866939783\n",
            "7300 0.0001568324805703014\n",
            "7400 0.0001531513116788119\n",
            "7500 0.00014967878814786673\n",
            "7600 0.0001463553198846057\n",
            "7700 0.00014312128769233823\n",
            "7800 0.0001400661130901426\n",
            "7900 0.00013711526116821915\n",
            "8000 0.00013429854880087078\n",
            "8100 0.0001315861736657098\n",
            "8200 0.00012894830433651805\n",
            "8300 0.00012644458911381662\n",
            "8400 0.00012401537969708443\n",
            "8500 0.00012166069791419432\n",
            "8600 0.00011941033881157637\n",
            "8700 0.0001172345073428005\n",
            "8800 0.0001151331962319091\n",
            "8900 0.00011309150431770831\n",
            "9000 0.000111139212094713\n",
            "9100 0.00010921675129793584\n",
            "9200 0.00010739861318143085\n",
            "9300 0.00010559536167420447\n",
            "9400 0.0001038964546751231\n",
            "9500 0.00010222734999842942\n",
            "9600 0.00010058804764412344\n",
            "9700 9.899345604935661e-05\n",
            "9800 9.74584836512804e-05\n",
            "9900 9.59831231739372e-05\n",
            "10000 9.452266385778785e-05\n"
          ]
        }
      ]
    },
    {
      "cell_type": "code",
      "source": [
        "with torch.no_grad():\n",
        "    hypothesis = model(X)\n",
        "    predicted = (hypothesis > 0.5).float()\n",
        "    accuracy = (predicted == Y).float().mean()\n",
        "    print(\"\\nHypothesis:\", hypothesis.detach().cpu().numpy(), \"\\nCorrect:\", predicted.detach().cpu().numpy(), \"\\nAccuracy:\", accuracy.item())"
      ],
      "metadata": {
        "colab": {
          "base_uri": "https://localhost:8080/"
        },
        "id": "A3PavQh1TYPT",
        "outputId": "faa22439-9997-4820-bd96-d3986646fcd0"
      },
      "execution_count": null,
      "outputs": [
        {
          "output_type": "stream",
          "name": "stdout",
          "text": [
            "\n",
            "Hypothesis: [[7.4388765e-05]\n",
            " [9.9988055e-01]\n",
            " [9.9990404e-01]\n",
            " [8.8289198e-05]] \n",
            "Correct: [[0.]\n",
            " [1.]\n",
            " [1.]\n",
            " [0.]] \n",
            "Accuracy: 1.0\n"
          ]
        }
      ]
    },
    {
      "cell_type": "markdown",
      "source": [
        "**XOR_NN_DROPOUT**"
      ],
      "metadata": {
        "id": "RK1lgpY8heo-"
      }
    },
    {
      "cell_type": "code",
      "source": [
        "import torch\n",
        "import torchvision.datasets as dsets\n",
        "import torchvision.transforms as transforms"
      ],
      "metadata": {
        "id": "nBW0pzCxTYRh"
      },
      "execution_count": null,
      "outputs": []
    },
    {
      "cell_type": "code",
      "source": [
        "device = \"cuda\" if torch.cuda.is_available() else \"cpu\"\n",
        "\n",
        "torch.manual_seed(777)\n",
        "if device == \"cuda\":\n",
        "    torch.cuda.manual_seed_all(777)"
      ],
      "metadata": {
        "id": "Ksyk8Ua-Te0a"
      },
      "execution_count": null,
      "outputs": []
    },
    {
      "cell_type": "code",
      "source": [
        "learning_rate = 0.5\n",
        "batch_size = 10"
      ],
      "metadata": {
        "id": "wqGZxwF-Te2b"
      },
      "execution_count": null,
      "outputs": []
    },
    {
      "cell_type": "code",
      "source": [
        "mnist_train = dsets.MNIST(root=\"MNIST_data/\", train = True, transform= transforms.ToTensor(), download=True)\n",
        "\n",
        "mnist_test = dsets.MNIST(root=\"MNIST_data/\", train = False, transform = transforms.ToTensor(), download = True)"
      ],
      "metadata": {
        "id": "LJlLsseYTe4j"
      },
      "execution_count": null,
      "outputs": []
    },
    {
      "cell_type": "code",
      "source": [
        "data_loader = torch.utils.data.DataLoader(dataset = mnist_train, batch_size = batch_size, shuffle = True, drop_last = True)"
      ],
      "metadata": {
        "id": "9yy1xjxVTe6s"
      },
      "execution_count": null,
      "outputs": []
    },
    {
      "cell_type": "code",
      "source": [
        "w1 = torch.nn.Parameter(torch.Tensor(784, 30)).to(device)\n",
        "b1 = torch.nn.Parameter(torch.Tensor(30)).to(device)\n",
        "\n",
        "w2 = torch.nn.Parameter(torch.Tensor(30, 10)).to(device)\n",
        "b2 = torch.nn.Parameter(torch.Tensor(10)).to(device)"
      ],
      "metadata": {
        "id": "lmWvV1SbTe8z"
      },
      "execution_count": null,
      "outputs": []
    },
    {
      "cell_type": "code",
      "source": [
        "torch.nn.init.normal_(w1)\n",
        "torch.nn.init.normal_(b1)\n",
        "torch.nn.init.normal_(w2)\n",
        "torch.nn.init.normal_(b2)"
      ],
      "metadata": {
        "colab": {
          "base_uri": "https://localhost:8080/"
        },
        "id": "AS2_QFj2Te-7",
        "outputId": "378f086c-ab86-4459-a2ac-49242ae39935"
      },
      "execution_count": null,
      "outputs": [
        {
          "output_type": "execute_result",
          "data": {
            "text/plain": [
              "Parameter containing:\n",
              "tensor([-0.5780, -0.4606, -0.2698, -1.2361, -1.7241,  0.9146,  0.6286, -0.0603,\n",
              "         0.9260, -0.8019], requires_grad=True)"
            ]
          },
          "metadata": {},
          "execution_count": 46
        }
      ]
    },
    {
      "cell_type": "code",
      "source": [
        "def sigmoid(x):\n",
        "    return 1.0 / (1.0 + torch.exp(-x))"
      ],
      "metadata": {
        "id": "52QT6n2ned9p"
      },
      "execution_count": null,
      "outputs": []
    },
    {
      "cell_type": "code",
      "source": [
        "def sigmoid_prime(x):\n",
        "    return sigmoid(x) * (1 - sigmoid(x))"
      ],
      "metadata": {
        "id": "8M1J8Wg7eeA8"
      },
      "execution_count": null,
      "outputs": []
    },
    {
      "cell_type": "code",
      "source": [
        "X_test = mnist_test.test_data.view(-1, 28 * 28).float().to(device)[: 1000]\n",
        "Y_test = mnist_test.test_labels.to(device)[: 1000]\n",
        "i = 0\n",
        "\n",
        "while not i == 10000:\n",
        "    for X, Y in data_loader:\n",
        "        i += 1\n",
        "\n",
        "        X = X.view(-1, 28 * 28).to(device)\n",
        "        Y = torch.zeros((batch_size, 10)).scatter_(1, Y.unsqueeze(1), 1).to(device)\n",
        "        l1 = torch.add(torch.matmul(X, w1), b1)\n",
        "        a1 = sigmoid(l1)\n",
        "        l2 = torch.add(torch.matmul(a1, w2), b2)\n",
        "        y_pred = sigmoid(l2)\n",
        "\n",
        "        diff = y_pred - Y\n",
        "\n",
        "        d_l2 = diff * sigmoid_prime(l2)\n",
        "        d_b2 = d_l2\n",
        "        d_w2 = torch.matmul(torch.transpose(a1, 0, 1), d_l2)\n",
        "\n",
        "        d_a1 = torch.matmul(d_l2, torch.transpose(w2, 0, 1))\n",
        "        d_l1 = d_a1 * sigmoid_prime(l1)\n",
        "        d_b1 = d_l1\n",
        "        d_w1 = torch.matmul(torch.transpose(X, 0, 1), d_l1)\n",
        "\n",
        "        w1 = w1 - learning_rate * d_w1\n",
        "        b1 = b1 - learning_rate * torch.mean(d_b1, 0)\n",
        "        w2 = w2 - learning_rate * d_w2\n",
        "        b2 = b2 - learning_rate * torch.mean(d_b2, 0)\n",
        "\n",
        "        if i % 1000 == 0:\n",
        "            l1 = torch.add(torch.matmul(X_test, w1), b1)\n",
        "            a1 = sigmoid(l1)\n",
        "            l2 = torch.add(torch.matmul(a1, w2), b2)\n",
        "            y_pred = sigmoid(l2)\n",
        "            acct_mat = torch.argmax(y_pred, 1) == Y_test\n",
        "            acct_res = acct_mat.sum()\n",
        "            print(acct_res.item())\n",
        "\n",
        "        if i == 10000:\n",
        "            break"
      ],
      "metadata": {
        "colab": {
          "base_uri": "https://localhost:8080/"
        },
        "id": "wBGURFq_eeHx",
        "outputId": "7d482139-399d-4423-ea5f-04936bdda559"
      },
      "execution_count": null,
      "outputs": [
        {
          "output_type": "stream",
          "name": "stderr",
          "text": [
            "/usr/local/lib/python3.7/dist-packages/torchvision/datasets/mnist.py:80: UserWarning: test_data has been renamed data\n",
            "  warnings.warn(\"test_data has been renamed data\")\n",
            "/usr/local/lib/python3.7/dist-packages/torchvision/datasets/mnist.py:70: UserWarning: test_labels has been renamed targets\n",
            "  warnings.warn(\"test_labels has been renamed targets\")\n"
          ]
        },
        {
          "output_type": "stream",
          "name": "stdout",
          "text": [
            "808\n",
            "851\n",
            "874\n",
            "888\n",
            "890\n",
            "908\n",
            "900\n",
            "919\n",
            "895\n",
            "897\n"
          ]
        }
      ]
    }
  ]
}